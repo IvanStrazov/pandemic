{
 "cells": [
  {
   "cell_type": "code",
   "execution_count": 2,
   "metadata": {},
   "outputs": [],
   "source": [
    "%load_ext autoreload\n",
    "%autoreload 2"
   ]
  },
  {
   "cell_type": "code",
   "execution_count": 81,
   "metadata": {},
   "outputs": [],
   "source": [
    "from  process import *"
   ]
  },
  {
   "cell_type": "code",
   "execution_count": 4,
   "metadata": {},
   "outputs": [],
   "source": [
    "import pandas as pd\n",
    "import numpy as np\n",
    "from pathlib import Path\n",
    "from sklearn.model_selection import train_test_split\n",
    "from sklearn.metrics import mean_squared_log_error\n",
    "from catboost import CatBoostRegressor, Pool\n",
    "from sklearn.model_selection import train_test_split\n",
    "import matplotlib.pyplot as plt\n",
    "from hyperopt import fmin, tpe, hp, STATUS_OK, Trials"
   ]
  },
  {
   "cell_type": "code",
   "execution_count": 5,
   "metadata": {},
   "outputs": [],
   "source": [
    "from sklearn.metrics import mean_squared_error"
   ]
  },
  {
   "cell_type": "code",
   "execution_count": 6,
   "metadata": {},
   "outputs": [],
   "source": [
    "def RMSE(y_true, y_pred):\n",
    "    return np.sqrt(mean_squared_error(y_true, y_pred))"
   ]
  },
  {
   "cell_type": "code",
   "execution_count": 28,
   "metadata": {},
   "outputs": [],
   "source": [
    "train = pd.read_parquet(Path('../data/preprocessed/adv_train.pq'))\n",
    "test = pd.read_parquet(Path('../data/preprocessed/adv_test.pq'))"
   ]
  },
  {
   "cell_type": "code",
   "execution_count": 82,
   "metadata": {},
   "outputs": [],
   "source": [
    "train, test = set_age2(train, test)"
   ]
  },
  {
   "cell_type": "code",
   "execution_count": 83,
   "metadata": {},
   "outputs": [],
   "source": [
    "pd.set_option('display.max_columns', 100)\n",
    "pd.set_option('display.max_rows', 100)"
   ]
  },
  {
   "cell_type": "code",
   "execution_count": 84,
   "metadata": {},
   "outputs": [],
   "source": [
    "train_n = train.drop(columns=DROP_FEATURES)\n",
    "test_n = test.drop(columns=DROP_FEATURES)"
   ]
  },
  {
   "cell_type": "code",
   "execution_count": 54,
   "metadata": {},
   "outputs": [],
   "source": [
    "class Tuner:\n",
    "    \"\"\"\n",
    "    Search best hyperparameters for model.\n",
    "    \"\"\"\n",
    "\n",
    "    def __init__(self, model, train_pool, val_pool, space, common_params={}, fit_params={}, int_params=[]):\n",
    "        \"\"\"\n",
    "        Initialization.\n",
    "\n",
    "        Parameters:\n",
    "            model (Model) - ML model with sklearn API.\n",
    "            train_pool (catboost.Pool, dim=(n,m)) - training data.\n",
    "            val_pool (catboost.Pool, dim=(k,m)) - validation data.\n",
    "            space (dict) - space for searching hyperparameters.\n",
    "            common_params (dict) - common model's parameters.\n",
    "            fit_params (dict) - parameters for method 'fit'.\n",
    "            int_params (list) - list of integer parameters.\n",
    "        \"\"\"\n",
    "        \n",
    "        self.__model = model\n",
    "        self.__train_pool = train_pool\n",
    "        self.__val_pool = val_pool\n",
    "        self.__space = space\n",
    "        self.__common_params = common_params\n",
    "        self.__fit_params = fit_params\n",
    "        self.__int_params = int_params\n",
    "    \n",
    "\n",
    "    def __params2int(self, params):\n",
    "        \"\"\"\n",
    "        Transform some hyperopt formats to integer.\n",
    "\n",
    "        Parameters:\n",
    "            params (dict) - model parameters.\n",
    "        \"\"\"\n",
    "        \n",
    "        for par in self.__int_params:\n",
    "            params[par] = int(params[par])\n",
    "\n",
    "        return params\n",
    "    \n",
    "\n",
    "    def __score(self, params):\n",
    "        \"\"\"\n",
    "        Compute score over dictionary of parameters.\n",
    "\n",
    "        Parameters:\n",
    "            params (dict) - model parameters.\n",
    "        \"\"\"\n",
    "\n",
    "        model = self.__model(**self.__common_params, **self.__params2int(params))\\\n",
    "                    .fit(self.__train_pool, \n",
    "                         eval_set=self.__val_pool, \n",
    "                         **self.__fit_params)\n",
    "        \n",
    "        y_pred = model.predict(self.__val_pool)\n",
    "        loss = RMSE(self.__val_pool.get_label(), y_pred)\n",
    "        \n",
    "        return {\"loss\": loss, \"status\": STATUS_OK}\n",
    "    \n",
    "\n",
    "    def make_hyperopt(self, max_evals=50):\n",
    "        \"\"\"\n",
    "        Make searching of hyperparameters.\n",
    "\n",
    "        Parameters:\n",
    "            max_evals (int) - max number of iterations for optimization.\n",
    "        \"\"\"\n",
    "\n",
    "        self.trials = Trials()\n",
    "        best = fmin(self.__score,\n",
    "                    space=self.__space,\n",
    "                    trials=self.trials,\n",
    "                    algo=tpe.suggest,\n",
    "                    max_evals=max_evals)\n",
    "        self.best_parameters = self.__params2int(best)"
   ]
  },
  {
   "cell_type": "code",
   "execution_count": 66,
   "metadata": {},
   "outputs": [],
   "source": [
    "SPACE = {\n",
    "    \"iterations\": hp.quniform(\"iterations\", 100, 1000, 50),\n",
    "    \"learning_rate\": hp.uniform(\"learning_rate\", 1e-1, 5e-1),\n",
    "    \"depth\": hp.quniform(\"depth\", 3, 16, 1),\n",
    "\n",
    "    \"min_child_samples\": hp.quniform(\"min_child_samples\", 10, 100, 10),\n",
    "\n",
    "    \"reg_lambda\": hp.uniform(\"reg_lambda\", 0, 10),\n",
    "\n",
    "    \n",
    "     \"random_strength\": hp.lognormal(\"random_strength\", 1e-9, 1),\n",
    "     \"bagging_temperature\": hp.quniform(\"bagging_temperature\", 0, 10, 1),\n",
    "\n",
    "#    \"colsample_bylevel\": hp.uniform(\"colsample_bylevel\", 0, 1),\n",
    "#   \"subsample\": hp.uniform(\"subsample\", 0, 1)\n",
    "}\n",
    "\n",
    "COMMON_PARAMS = {\n",
    "    \"random_state\": 42,\n",
    "    \"task_type\": \"GPU\",\n",
    "    \"objective\": \"RMSE\",\n",
    "    \"eval_metric\": \"RMSE\",\n",
    "    \n",
    "    \"od_type\": \"Iter\",\n",
    "    \"od_wait\": 20,\n",
    "    \"use_best_model\": True\n",
    "}\n",
    "\n",
    "FIT_PARAMS = {\n",
    "    \"verbose\": 0\n",
    "}\n",
    "\n",
    "INT_PARAMS = [\n",
    "    \"iterations\", \"depth\", \"min_child_samples\", #\"bagging_temperature\"\n",
    "]\n",
    "\n",
    "\n",
    "MODEL = CatBoostRegressor"
   ]
  },
  {
   "cell_type": "code",
   "execution_count": 85,
   "metadata": {},
   "outputs": [],
   "source": [
    "X_train, X_val = train_test_split(train_n.drop(columns=['id']), train_size=0.7, random_state=42)"
   ]
  },
  {
   "cell_type": "code",
   "execution_count": 86,
   "metadata": {},
   "outputs": [],
   "source": [
    "train_pool = Pool(X_train.drop(columns=['salary']), np.log(X_train['salary']+1), cat_features=CAT_FEATURES)"
   ]
  },
  {
   "cell_type": "code",
   "execution_count": 87,
   "metadata": {},
   "outputs": [],
   "source": [
    "val_pool = Pool(X_val.drop(columns=['salary']), np.log(X_val['salary']+1), cat_features=CAT_FEATURES)"
   ]
  },
  {
   "cell_type": "code",
   "execution_count": 68,
   "metadata": {},
   "outputs": [
    {
     "name": "stdout",
     "output_type": "stream",
     "text": [
      "100%|██████████████████████████████████████████████| 100/100 [31:32<00:00, 18.92s/trial, best loss: 0.9949401357485095]\n"
     ]
    }
   ],
   "source": [
    "tuner = Tuner(MODEL, train_pool, val_pool, SPACE, COMMON_PARAMS, FIT_PARAMS, INT_PARAMS)\n",
    "tuner.make_hyperopt(max_evals=100)"
   ]
  },
  {
   "cell_type": "code",
   "execution_count": 69,
   "metadata": {},
   "outputs": [
    {
     "data": {
      "text/plain": [
       "{'bagging_temperature': 0.0,\n",
       " 'depth': 10,\n",
       " 'iterations': 100,\n",
       " 'learning_rate': 0.26561363291515183,\n",
       " 'min_child_samples': 70,\n",
       " 'random_strength': 0.9115570762733113,\n",
       " 'reg_lambda': 6.953237326616156}"
      ]
     },
     "execution_count": 69,
     "metadata": {},
     "output_type": "execute_result"
    }
   ],
   "source": [
    "tuner.best_parameters"
   ]
  },
  {
   "cell_type": "code",
   "execution_count": 88,
   "metadata": {},
   "outputs": [],
   "source": [
    "est = CatBoostRegressor(**tuner.best_parameters)"
   ]
  },
  {
   "cell_type": "code",
   "execution_count": 89,
   "metadata": {},
   "outputs": [
    {
     "name": "stdout",
     "output_type": "stream",
     "text": [
      "0:\tlearn: 1.0717291\ttest: 1.0635907\tbest: 1.0635907 (0)\ttotal: 183ms\tremaining: 18.1s\n",
      "10:\tlearn: 1.0052801\ttest: 1.0040091\tbest: 1.0040091 (10)\ttotal: 1.78s\tremaining: 14.4s\n",
      "20:\tlearn: 0.9941658\ttest: 1.0007268\tbest: 1.0007268 (20)\ttotal: 3.18s\tremaining: 11.9s\n",
      "30:\tlearn: 0.9897216\ttest: 0.9996604\tbest: 0.9996604 (30)\ttotal: 4.25s\tremaining: 9.45s\n",
      "40:\tlearn: 0.9851071\ttest: 0.9990298\tbest: 0.9990275 (39)\ttotal: 5.45s\tremaining: 7.84s\n",
      "50:\tlearn: 0.9826322\ttest: 0.9981866\tbest: 0.9981862 (47)\ttotal: 6.49s\tremaining: 6.24s\n",
      "60:\tlearn: 0.9793411\ttest: 0.9976364\tbest: 0.9976106 (56)\ttotal: 7.74s\tremaining: 4.95s\n",
      "70:\tlearn: 0.9758899\ttest: 0.9977830\tbest: 0.9976106 (56)\ttotal: 9.34s\tremaining: 3.81s\n",
      "80:\tlearn: 0.9739798\ttest: 0.9978908\tbest: 0.9976106 (56)\ttotal: 11s\tremaining: 2.58s\n",
      "90:\tlearn: 0.9721230\ttest: 0.9978438\tbest: 0.9976106 (56)\ttotal: 12.8s\tremaining: 1.26s\n",
      "99:\tlearn: 0.9677208\ttest: 0.9976084\tbest: 0.9976084 (99)\ttotal: 14.3s\tremaining: 0us\n",
      "\n",
      "bestTest = 0.9976083712\n",
      "bestIteration = 99\n",
      "\n"
     ]
    },
    {
     "data": {
      "text/plain": [
       "<catboost.core.CatBoostRegressor at 0x20c03ae1808>"
      ]
     },
     "execution_count": 89,
     "metadata": {},
     "output_type": "execute_result"
    }
   ],
   "source": [
    "est.fit(train_pool, eval_set=val_pool, verbose_eval=10)"
   ]
  },
  {
   "cell_type": "code",
   "execution_count": 90,
   "metadata": {},
   "outputs": [
    {
     "data": {
      "image/png": "[encoded data removed]",
      "text/plain": [
       "<Figure size 720x720 with 1 Axes>"
      ]
     },
     "metadata": {
      "needs_background": "light"
     },
     "output_type": "display_data"
    }
   ],
   "source": [
    "importance = sorted(zip(X_train.drop(columns=['salary']).columns, est.feature_importances_), key=lambda x: x[1], reverse=True)\n",
    "imp = list(reversed(importance[:40]))\n",
    "plt.figure(figsize=(10,10))\n",
    "plt.title('Feature Importances ABS')\n",
    "plt.barh(range(len(imp)), [x[1] for x in imp], color='b', align='center')\n",
    "plt.yticks(range(len(imp)), [x[0] for x in imp])\n",
    "plt.xlabel('Relative Importance')\n",
    "plt.show()"
   ]
  },
  {
   "cell_type": "code",
   "execution_count": 91,
   "metadata": {},
   "outputs": [
    {
     "data": {
      "text/plain": [
       "0.99760837067426"
      ]
     },
     "execution_count": 91,
     "metadata": {},
     "output_type": "execute_result"
    }
   ],
   "source": [
    "np.sqrt(mean_squared_log_error(X_val['salary'], np.exp(est.predict(val_pool))-1))"
   ]
  },
  {
   "cell_type": "markdown",
   "metadata": {},
   "source": [
    "0.997859426677459"
   ]
  },
  {
   "cell_type": "code",
   "execution_count": 92,
   "metadata": {},
   "outputs": [
    {
     "data": {
      "text/plain": [
       "0.966665672020638"
      ]
     },
     "execution_count": 92,
     "metadata": {},
     "output_type": "execute_result"
    }
   ],
   "source": [
    "np.sqrt(mean_squared_log_error(X_train['salary'], np.exp(est.predict(train_pool))-1))"
   ]
  },
  {
   "cell_type": "markdown",
   "metadata": {},
   "source": [
    "0.9645155233472713"
   ]
  },
  {
   "cell_type": "code",
   "execution_count": 93,
   "metadata": {},
   "outputs": [
    {
     "name": "stdout",
     "output_type": "stream",
     "text": [
      "0:\tlearn: 1.0675988\ttotal: 266ms\tremaining: 26.3s\n",
      "10:\tlearn: 1.0041677\ttotal: 2.13s\tremaining: 17.3s\n",
      "20:\tlearn: 0.9958106\ttotal: 3.83s\tremaining: 14.4s\n",
      "30:\tlearn: 0.9904711\ttotal: 5.34s\tremaining: 11.9s\n",
      "40:\tlearn: 0.9848583\ttotal: 6.96s\tremaining: 10s\n",
      "50:\tlearn: 0.9813136\ttotal: 8.87s\tremaining: 8.52s\n",
      "60:\tlearn: 0.9791017\ttotal: 10.7s\tremaining: 6.84s\n",
      "70:\tlearn: 0.9772326\ttotal: 12.6s\tremaining: 5.15s\n",
      "80:\tlearn: 0.9747880\ttotal: 14.7s\tremaining: 3.44s\n",
      "90:\tlearn: 0.9721687\ttotal: 16.7s\tremaining: 1.66s\n",
      "99:\tlearn: 0.9711939\ttotal: 18.6s\tremaining: 0us\n"
     ]
    },
    {
     "data": {
      "text/plain": [
       "<catboost.core.CatBoostRegressor at 0x20c03ae1808>"
      ]
     },
     "execution_count": 93,
     "metadata": {},
     "output_type": "execute_result"
    }
   ],
   "source": [
    "est.fit(train_n.drop(columns=['id', 'salary']), \n",
    "        np.log(train_n['salary']+1), \n",
    "        verbose_eval=10,\n",
    "       cat_features=CAT_FEATURES)"
   ]
  },
  {
   "cell_type": "code",
   "execution_count": 94,
   "metadata": {},
   "outputs": [
    {
     "data": {
      "text/plain": [
       "0.9678006684793359"
      ]
     },
     "execution_count": 94,
     "metadata": {},
     "output_type": "execute_result"
    }
   ],
   "source": [
    "np.sqrt(mean_squared_log_error(train_n['salary'], \n",
    "                               np.exp(est.predict(train_n.drop(columns=['id', 'salary'])))-1))"
   ]
  },
  {
   "cell_type": "markdown",
   "metadata": {},
   "source": [
    "\n",
    "0.9679435998332367"
   ]
  },
  {
   "cell_type": "code",
   "execution_count": 95,
   "metadata": {},
   "outputs": [],
   "source": [
    "predict=np.exp(est.predict(test_n.drop(columns=['id'])))-1"
   ]
  },
  {
   "cell_type": "code",
   "execution_count": 96,
   "metadata": {},
   "outputs": [],
   "source": [
    "sub = test_n[['id']].copy()"
   ]
  },
  {
   "cell_type": "code",
   "execution_count": 97,
   "metadata": {},
   "outputs": [],
   "source": [
    "sub['salary'] = predict"
   ]
  },
  {
   "cell_type": "code",
   "execution_count": 98,
   "metadata": {},
   "outputs": [],
   "source": [
    "sub.to_csv(Path('../submissions/cb_4_ho_plus_sub.csv'), index=False, sep=\",\")"
   ]
  }
 ],
 "metadata": {
  "kernelspec": {
   "display_name": "Python 3",
   "language": "python",
   "name": "python3"
  },
  "language_info": {
   "codemirror_mode": {
    "name": "ipython",
    "version": 3
   },
   "file_extension": ".py",
   "mimetype": "text/x-python",
   "name": "python",
   "nbconvert_exporter": "python",
   "pygments_lexer": "ipython3",
   "version": "3.7.6"
  },
  "toc": {
   "base_numbering": 1,
   "nav_menu": {},
   "number_sections": true,
   "sideBar": true,
   "skip_h1_title": false,
   "title_cell": "Table of Contents",
   "title_sidebar": "Contents",
   "toc_cell": false,
   "toc_position": {},
   "toc_section_display": true,
   "toc_window_display": false
  }
 },
 "nbformat": 4,
 "nbformat_minor": 4
}
