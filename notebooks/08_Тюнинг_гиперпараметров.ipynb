{
  "nbformat": 4,
  "nbformat_minor": 0,
  "metadata": {
    "colab": {
      "name": "08 Тюнинг гиперпараметров.ipynb",
      "provenance": [],
      "collapsed_sections": []
    },
    "kernelspec": {
      "name": "python3",
      "display_name": "Python 3"
    }
  },
  "cells": [
    {
      "cell_type": "markdown",
      "metadata": {
        "id": "IBgSsLge0g9R"
      },
      "source": [
        "# Библиотеки"
      ]
    },
    {
      "cell_type": "code",
      "metadata": {
        "id": "7HRLVAkl0sf-"
      },
      "source": [
        "!pip install catboost"
      ],
      "execution_count": null,
      "outputs": []
    },
    {
      "cell_type": "code",
      "metadata": {
        "id": "ZyX2Nqba0i-v"
      },
      "source": [
        "import numpy as np\r\n",
        "import pandas as pd\r\n",
        "\r\n",
        "from sklearn.model_selection import KFold, train_test_split\r\n",
        "from catboost import CatBoostRegressor, Pool\r\n",
        "from hyperopt import fmin, tpe, hp, STATUS_OK, Trials"
      ],
      "execution_count": 4,
      "outputs": []
    },
    {
      "cell_type": "markdown",
      "metadata": {
        "id": "N4ppuXsG0uws"
      },
      "source": [
        "# Тюнер"
      ]
    },
    {
      "cell_type": "code",
      "metadata": {
        "id": "9XiDEy1l0qEh"
      },
      "source": [
        "def RMSE(y_true, y_pred):\r\n",
        "    \"\"\"\r\n",
        "    Compute RMSE loss function.\r\n",
        "    \"\"\"\r\n",
        "\r\n",
        "    return np.sqrt(np.mean(np.power(y_true - y_pred, 2)))\r\n",
        "\r\n",
        "\r\n",
        "\r\n",
        "class Tuner:\r\n",
        "    \"\"\"\r\n",
        "    Search best hyperparameters for model.\r\n",
        "    \"\"\"\r\n",
        "\r\n",
        "    def __init__(self, model, train_pool, val_pool, space, common_params={}, fit_params={}, int_params=[]):\r\n",
        "        \"\"\"\r\n",
        "        Initialization.\r\n",
        "\r\n",
        "        Parameters:\r\n",
        "            model (Model) - ML model with sklearn API.\r\n",
        "            train_pool (catboost.Pool, dim=(n,m)) - training data.\r\n",
        "            val_pool (catboost.Pool, dim=(k,m)) - validation data.\r\n",
        "            space (dict) - space for searching hyperparameters.\r\n",
        "            common_params (dict) - common model's parameters.\r\n",
        "            fit_params (dict) - parameters for method 'fit'.\r\n",
        "            int_params (list) - list of integer parameters.\r\n",
        "        \"\"\"\r\n",
        "        \r\n",
        "        self.__model = model\r\n",
        "        self.__train_pool = train_pool\r\n",
        "        self.__val_pool = val_pool\r\n",
        "        self.__space = space\r\n",
        "        self.__common_params = common_params\r\n",
        "        self.__fit_params = fit_params\r\n",
        "        self.__int_params = int_params\r\n",
        "    \r\n",
        "\r\n",
        "    def __params2int(self, params):\r\n",
        "        \"\"\"\r\n",
        "        Transform some hyperopt formats to integer.\r\n",
        "\r\n",
        "        Parameters:\r\n",
        "            params (dict) - model parameters.\r\n",
        "        \"\"\"\r\n",
        "        \r\n",
        "        for par in self.__int_params:\r\n",
        "            params[par] = int(params[par])\r\n",
        "\r\n",
        "        return params\r\n",
        "    \r\n",
        "\r\n",
        "    def __score(self, params):\r\n",
        "        \"\"\"\r\n",
        "        Compute score over dictionary of parameters.\r\n",
        "\r\n",
        "        Parameters:\r\n",
        "            params (dict) - model parameters.\r\n",
        "        \"\"\"\r\n",
        "\r\n",
        "        model = self.__model(**self.__common_params, **self.__params2int(params))\\\r\n",
        "                    .fit(self.__train_pool, \r\n",
        "                         eval_set=self.__val_pool, \r\n",
        "                         **self.__fit_params)\r\n",
        "        \r\n",
        "        y_pred = model.predict(self.__val_pool)\r\n",
        "        loss = - RMSE(self.__val_pool.get_label(), y_pred)\r\n",
        "        \r\n",
        "        return {\"loss\": loss, \"status\": STATUS_OK}\r\n",
        "    \r\n",
        "\r\n",
        "    def make_hyperopt(self, max_evals=50):\r\n",
        "        \"\"\"\r\n",
        "        Make searching of hyperparameters.\r\n",
        "\r\n",
        "        Parameters:\r\n",
        "            max_evals (int) - max number of iterations for optimization.\r\n",
        "        \"\"\"\r\n",
        "\r\n",
        "        self.trials = Trials()\r\n",
        "        best = fmin(self.__score,\r\n",
        "                    space=self.__space,\r\n",
        "                    trials=self.trials,\r\n",
        "                    algo=tpe.suggest,\r\n",
        "                    max_evals=max_evals)\r\n",
        "        self.best_parameters = self.__params2int(best)\r\n"
      ],
      "execution_count": 5,
      "outputs": []
    },
    {
      "cell_type": "markdown",
      "metadata": {
        "id": "BbfiS3Du02oH"
      },
      "source": [
        "# Загрузка данных"
      ]
    },
    {
      "cell_type": "code",
      "metadata": {
        "colab": {
          "base_uri": "https://localhost:8080/",
          "height": 234
        },
        "id": "ZQ3P03-J05ml",
        "outputId": "782d6494-5d72-4a62-abac-3d0eef0aad65"
      },
      "source": [
        "data = pd.read_csv(\"/content/drive/MyDrive/hacaton_pandemic/data/train.csv\", sep=\";\")\r\n",
        "data.head(2)"
      ],
      "execution_count": 7,
      "outputs": [
        {
          "output_type": "execute_result",
          "data": {
            "text/html": [
              "<div>\n",
              "<style scoped>\n",
              "    .dataframe tbody tr th:only-of-type {\n",
              "        vertical-align: middle;\n",
              "    }\n",
              "\n",
              "    .dataframe tbody tr th {\n",
              "        vertical-align: top;\n",
              "    }\n",
              "\n",
              "    .dataframe thead th {\n",
              "        text-align: right;\n",
              "    }\n",
              "</style>\n",
              "<table border=\"1\" class=\"dataframe\">\n",
              "  <thead>\n",
              "    <tr style=\"text-align: right;\">\n",
              "      <th></th>\n",
              "      <th>id</th>\n",
              "      <th>position</th>\n",
              "      <th>region</th>\n",
              "      <th>industry</th>\n",
              "      <th>locality</th>\n",
              "      <th>locality_name</th>\n",
              "      <th>education_type</th>\n",
              "      <th>drive_licences</th>\n",
              "      <th>citizenship</th>\n",
              "      <th>schedule</th>\n",
              "      <th>employement_type</th>\n",
              "      <th>age</th>\n",
              "      <th>gender</th>\n",
              "      <th>experience</th>\n",
              "      <th>salary_desired</th>\n",
              "      <th>relocation_ready</th>\n",
              "      <th>travel_ready</th>\n",
              "      <th>retraining_ready</th>\n",
              "      <th>is_worldskills_participant</th>\n",
              "      <th>has_qualifications</th>\n",
              "      <th>completeness_rate</th>\n",
              "      <th>creation_date</th>\n",
              "      <th>modification_date</th>\n",
              "      <th>publish_date</th>\n",
              "      <th>salary</th>\n",
              "    </tr>\n",
              "  </thead>\n",
              "  <tbody>\n",
              "    <tr>\n",
              "      <th>0</th>\n",
              "      <td>0</td>\n",
              "      <td>Специалист</td>\n",
              "      <td>Тульская область</td>\n",
              "      <td>Государственная служба, некоммерческие организ...</td>\n",
              "      <td>7100000100000</td>\n",
              "      <td>Тула</td>\n",
              "      <td>Незаконченное высшее</td>\n",
              "      <td>[B]</td>\n",
              "      <td>Российская Федерация</td>\n",
              "      <td>Полный рабочий день</td>\n",
              "      <td>Полная занятость</td>\n",
              "      <td>21.0</td>\n",
              "      <td>Мужской</td>\n",
              "      <td>3</td>\n",
              "      <td>35000</td>\n",
              "      <td>False</td>\n",
              "      <td>False</td>\n",
              "      <td>True</td>\n",
              "      <td>NaN</td>\n",
              "      <td>NaN</td>\n",
              "      <td>64.0</td>\n",
              "      <td>2020-05-07</td>\n",
              "      <td>2020-05-08</td>\n",
              "      <td>2020-05-07</td>\n",
              "      <td>37500</td>\n",
              "    </tr>\n",
              "    <tr>\n",
              "      <th>1</th>\n",
              "      <td>1</td>\n",
              "      <td>Лаборант</td>\n",
              "      <td>Алтайский край</td>\n",
              "      <td>Государственная служба, некоммерческие организ...</td>\n",
              "      <td>2200000100000</td>\n",
              "      <td>Барнаул</td>\n",
              "      <td>Высшее</td>\n",
              "      <td>[B]</td>\n",
              "      <td>Российская Федерация</td>\n",
              "      <td>Полный рабочий день</td>\n",
              "      <td>Полная занятость</td>\n",
              "      <td>26.0</td>\n",
              "      <td>Женский</td>\n",
              "      <td>4</td>\n",
              "      <td>15000</td>\n",
              "      <td>False</td>\n",
              "      <td>True</td>\n",
              "      <td>True</td>\n",
              "      <td>NaN</td>\n",
              "      <td>NaN</td>\n",
              "      <td>88.0</td>\n",
              "      <td>2020-10-21</td>\n",
              "      <td>2020-10-27</td>\n",
              "      <td>2020-10-27</td>\n",
              "      <td>14000</td>\n",
              "    </tr>\n",
              "  </tbody>\n",
              "</table>\n",
              "</div>"
            ],
            "text/plain": [
              "   id    position            region  ... modification_date  publish_date salary\n",
              "0   0  Специалист  Тульская область  ...        2020-05-08    2020-05-07  37500\n",
              "1   1    Лаборант    Алтайский край  ...        2020-10-27    2020-10-27  14000\n",
              "\n",
              "[2 rows x 25 columns]"
            ]
          },
          "metadata": {
            "tags": []
          },
          "execution_count": 7
        }
      ]
    },
    {
      "cell_type": "markdown",
      "metadata": {
        "id": "yMAbRCYe0xpc"
      },
      "source": [
        "# Настройка параметров"
      ]
    },
    {
      "cell_type": "code",
      "metadata": {
        "id": "e9RC8AEt01bI"
      },
      "source": [
        "TEXT_FEATURES = [\"position\"]\r\n",
        "\r\n",
        "CAT_FEATURES = [\"region\", \"industry\", \"locality\", \"locality_name\", \"education_type\", \"drive_licences\",\r\n",
        "                \"citizenship\", \"schedule\", \"employement_type\", \"gender\", \"relocation_ready\",\r\n",
        "                \"travel_ready\", \"retraining_ready\", \"is_worldskills_participant\", \"has_qualifications\",\r\n",
        "                \"rr_cl\", \"tr_cl\", \"gr_cl\", \"rrr_cl\"\r\n",
        "]\r\n",
        "CAT_FEATURES = [\"region\"]\r\n",
        "\r\n",
        "SPACE = {\r\n",
        "    \"iterations\": hp.quniform(\"iterations\", 100, 1000, 50),\r\n",
        "    \"learning_rate\": hp.uniform(\"learning_rate\", 1e-1, 5e-1),\r\n",
        "    \"depth\": hp.quniform(\"depth\", 3, 16, 1),\r\n",
        "\r\n",
        "    \"min_child_samples\": hp.quniform(\"min_child_samples\", 10, 100, 10),\r\n",
        "\r\n",
        "    \"reg_lambda\": hp.uniform(\"reg_lambda\", 0, 10),\r\n",
        "\r\n",
        "    \r\n",
        "    \"random_strength\": hp.lognormal(\"random_strength\", 1e-9, 1),\r\n",
        "    \"bagging_temperature\": hp.quniform(\"bagging_temperature\", 0, 10, 1),\r\n",
        "\r\n",
        "    \"colsample_bylevel\": hp.uniform(\"colsample_bylevel\", 0, 1),\r\n",
        "    \"subsample\": hp.uniform(\"subsample\", 0, 1)\r\n",
        "}\r\n",
        "\r\n",
        "COMMON_PARAMS = {\r\n",
        "    \"random_state\": 42,\r\n",
        "    \"task_type\": \"CPU\", #\"GPU\"\r\n",
        "    \"objective\": \"RMSE\",\r\n",
        "    \"eval_metric\": \"RMSE\",\r\n",
        "    \r\n",
        "    \"od_type\": \"Iter\",\r\n",
        "    \"od_wait\": 20,\r\n",
        "    \"use_best_model\": True\r\n",
        "}\r\n",
        "\r\n",
        "FIT_PARAMS = {\r\n",
        "    \"verbose\": 0\r\n",
        "}\r\n",
        "\r\n",
        "INT_PARAMS = [\r\n",
        "    \"iterations\", \"depth\", \"min_child_samples\", \"bagging_temperature\"\r\n",
        "]\r\n",
        "\r\n",
        "\r\n",
        "MODEL = CatBoostRegressor"
      ],
      "execution_count": 13,
      "outputs": []
    },
    {
      "cell_type": "markdown",
      "metadata": {
        "id": "zxw8kdwa02Ks"
      },
      "source": [
        "# Подготовка данных"
      ]
    },
    {
      "cell_type": "code",
      "metadata": {
        "id": "LB7x85pD01lJ"
      },
      "source": [
        "X, y = data.loc[:, [\"region\"]].iloc[:1000].fillna(\"unknown\"), data[\"salary\"].iloc[:1000]\r\n",
        "\r\n",
        "kf = KFold(n_splits=3, random_state=42, shuffle=True)\r\n",
        "X_train, X_test, y_train, y_test = train_test_split(X, y, test_size=0.2, \r\n",
        "                                                    shuffle=True,\r\n",
        "                                                    random_state=42)\r\n",
        "\r\n",
        "train_pool = Pool(data=X_train, label=y_train, cat_features=CAT_FEATURES)#, text_features=TEXT_FEATURES)\r\n",
        "val_pool = Pool(data=X_test, label=y_test, cat_features=CAT_FEATURES)#, text_features=TEXT_FEATURES)"
      ],
      "execution_count": 14,
      "outputs": []
    },
    {
      "cell_type": "markdown",
      "metadata": {
        "id": "deHzr3oi1QDP"
      },
      "source": [
        "# Тюнинг гиперпараметров"
      ]
    },
    {
      "cell_type": "code",
      "metadata": {
        "colab": {
          "base_uri": "https://localhost:8080/"
        },
        "id": "2p0D0m2H1T2y",
        "outputId": "7b7c6ada-b7e8-43fb-c548-aa683db6daac"
      },
      "source": [
        "tuner = Tuner(MODEL, train_pool, val_pool, SPACE, COMMON_PARAMS, FIT_PARAMS, INT_PARAMS)\r\n",
        "tuner.make_hyperopt(max_evals=4)"
      ],
      "execution_count": 15,
      "outputs": [
        {
          "output_type": "stream",
          "text": [
            "100%|██████████| 4/4 [00:00<00:00, 13.46it/s, best loss: -37394.23824603276]\n"
          ],
          "name": "stdout"
        }
      ]
    }
  ]
}