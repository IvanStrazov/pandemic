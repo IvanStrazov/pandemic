{
 "cells": [
  {
   "cell_type": "code",
   "execution_count": 44,
   "metadata": {},
   "outputs": [],
   "source": [
    "import pandas as pd\n",
    "import numpy as np\n",
    "import matplotlib.pyplot as plt\n",
    "import seaborn as sns\n",
    "\n",
    "%matplotlib inline"
   ]
  },
  {
   "cell_type": "markdown",
   "metadata": {},
   "source": [
    "## Расчет ожидаемой эффективности от модели "
   ]
  },
  {
   "cell_type": "code",
   "execution_count": 30,
   "metadata": {},
   "outputs": [
    {
     "name": "stderr",
     "output_type": "stream",
     "text": [
      "c:\\envs\\kate\\lib\\site-packages\\IPython\\core\\interactiveshell.py:3145: DtypeWarning: Columns (18) have mixed types.Specify dtype option on import or set low_memory=False.\n",
      "  has_raised = await self.run_ast_nodes(code_ast.body, cell_name,\n"
     ]
    },
    {
     "data": {
      "text/html": [
       "<div>\n",
       "<style scoped>\n",
       "    .dataframe tbody tr th:only-of-type {\n",
       "        vertical-align: middle;\n",
       "    }\n",
       "\n",
       "    .dataframe tbody tr th {\n",
       "        vertical-align: top;\n",
       "    }\n",
       "\n",
       "    .dataframe thead th {\n",
       "        text-align: right;\n",
       "    }\n",
       "</style>\n",
       "<table border=\"1\" class=\"dataframe\">\n",
       "  <thead>\n",
       "    <tr style=\"text-align: right;\">\n",
       "      <th></th>\n",
       "      <th>id</th>\n",
       "      <th>region</th>\n",
       "      <th>modification_date</th>\n",
       "    </tr>\n",
       "  </thead>\n",
       "  <tbody>\n",
       "    <tr>\n",
       "      <th>0</th>\n",
       "      <td>0</td>\n",
       "      <td>Тульская область</td>\n",
       "      <td>2020-05-08</td>\n",
       "    </tr>\n",
       "    <tr>\n",
       "      <th>1</th>\n",
       "      <td>1</td>\n",
       "      <td>Алтайский край</td>\n",
       "      <td>2020-10-27</td>\n",
       "    </tr>\n",
       "    <tr>\n",
       "      <th>2</th>\n",
       "      <td>3</td>\n",
       "      <td>Ульяновская область</td>\n",
       "      <td>2020-02-04</td>\n",
       "    </tr>\n",
       "    <tr>\n",
       "      <th>3</th>\n",
       "      <td>4</td>\n",
       "      <td>Свердловская область</td>\n",
       "      <td>2020-09-20</td>\n",
       "    </tr>\n",
       "    <tr>\n",
       "      <th>4</th>\n",
       "      <td>5</td>\n",
       "      <td>Иркутская область</td>\n",
       "      <td>2020-09-09</td>\n",
       "    </tr>\n",
       "  </tbody>\n",
       "</table>\n",
       "</div>"
      ],
      "text/plain": [
       "   id                region modification_date\n",
       "0   0      Тульская область        2020-05-08\n",
       "1   1        Алтайский край        2020-10-27\n",
       "2   3   Ульяновская область        2020-02-04\n",
       "3   4  Свердловская область        2020-09-20\n",
       "4   5     Иркутская область        2020-09-09"
      ]
     },
     "execution_count": 30,
     "metadata": {},
     "output_type": "execute_result"
    }
   ],
   "source": [
    "# используем данные с портала \"Работа в России\" за 2015-2020 гг.\n",
    "\n",
    "cv_train = pd.read_csv('train.csv', sep=';')\n",
    "cv_train = cv_train[['id', 'region', 'modification_date']]\n",
    "cv_test = pd.read_csv('test.csv', sep=';')\n",
    "cv_test = cv_test[['id', 'region', 'modification_date']]\n",
    "\n",
    "cv = pd.concat([cv_train, cv_test])\n",
    "cv.modification_date = cv.modification_date.map(lambda x: pd.to_datetime(x, errors=\"coerce\")).values\n",
    "cv.head()"
   ]
  },
  {
   "cell_type": "code",
   "execution_count": 31,
   "metadata": {
    "scrolled": true
   },
   "outputs": [
    {
     "name": "stdout",
     "output_type": "stream",
     "text": [
      "<class 'pandas.core.frame.DataFrame'>\n",
      "Int64Index: 437529 entries, 0 to 131258\n",
      "Data columns (total 3 columns):\n",
      " #   Column             Non-Null Count   Dtype         \n",
      "---  ------             --------------   -----         \n",
      " 0   id                 437529 non-null  int64         \n",
      " 1   region             437512 non-null  object        \n",
      " 2   modification_date  437519 non-null  datetime64[ns]\n",
      "dtypes: datetime64[ns](1), int64(1), object(1)\n",
      "memory usage: 13.4+ MB\n"
     ]
    }
   ],
   "source": [
    "cv.info()"
   ]
  },
  {
   "cell_type": "code",
   "execution_count": 34,
   "metadata": {},
   "outputs": [
    {
     "data": {
      "text/html": [
       "<div>\n",
       "<style scoped>\n",
       "    .dataframe tbody tr th:only-of-type {\n",
       "        vertical-align: middle;\n",
       "    }\n",
       "\n",
       "    .dataframe tbody tr th {\n",
       "        vertical-align: top;\n",
       "    }\n",
       "\n",
       "    .dataframe thead th {\n",
       "        text-align: right;\n",
       "    }\n",
       "</style>\n",
       "<table border=\"1\" class=\"dataframe\">\n",
       "  <thead>\n",
       "    <tr style=\"text-align: right;\">\n",
       "      <th></th>\n",
       "      <th>id</th>\n",
       "      <th>finish_date</th>\n",
       "    </tr>\n",
       "  </thead>\n",
       "  <tbody>\n",
       "    <tr>\n",
       "      <th>0</th>\n",
       "      <td>0</td>\n",
       "      <td>2020-04-01</td>\n",
       "    </tr>\n",
       "    <tr>\n",
       "      <th>1</th>\n",
       "      <td>1</td>\n",
       "      <td>NaT</td>\n",
       "    </tr>\n",
       "    <tr>\n",
       "      <th>2</th>\n",
       "      <td>2</td>\n",
       "      <td>2014-07-01</td>\n",
       "    </tr>\n",
       "    <tr>\n",
       "      <th>3</th>\n",
       "      <td>3</td>\n",
       "      <td>NaT</td>\n",
       "    </tr>\n",
       "    <tr>\n",
       "      <th>4</th>\n",
       "      <td>4</td>\n",
       "      <td>2013-01-01</td>\n",
       "    </tr>\n",
       "  </tbody>\n",
       "</table>\n",
       "</div>"
      ],
      "text/plain": [
       "   id finish_date\n",
       "0   0  2020-04-01\n",
       "1   1         NaT\n",
       "2   2  2014-07-01\n",
       "3   3         NaT\n",
       "4   4  2013-01-01"
      ]
     },
     "execution_count": 34,
     "metadata": {},
     "output_type": "execute_result"
    }
   ],
   "source": [
    "# данные о последнем месте работы соискателем (дата увольнения)\n",
    "\n",
    "employements = pd.read_csv('employements.csv', sep=';')\n",
    "employements = employements[['id', 'finish_date']]\n",
    "employements.finish_date = employements.finish_date.map(lambda x: pd.to_datetime(x, errors=\"coerce\")).values\n",
    "employements.head()"
   ]
  },
  {
   "cell_type": "code",
   "execution_count": 35,
   "metadata": {},
   "outputs": [
    {
     "name": "stdout",
     "output_type": "stream",
     "text": [
      "<class 'pandas.core.frame.DataFrame'>\n",
      "RangeIndex: 343328 entries, 0 to 343327\n",
      "Data columns (total 2 columns):\n",
      " #   Column       Non-Null Count   Dtype         \n",
      "---  ------       --------------   -----         \n",
      " 0   id           343328 non-null  int64         \n",
      " 1   finish_date  294424 non-null  datetime64[ns]\n",
      "dtypes: datetime64[ns](1), int64(1)\n",
      "memory usage: 5.2 MB\n"
     ]
    }
   ],
   "source": [
    "employements.info()"
   ]
  },
  {
   "cell_type": "code",
   "execution_count": 38,
   "metadata": {},
   "outputs": [],
   "source": [
    "# если finish_date на последнем месте работы не заполнена, то, скорее всего, имеем дело с тем, кто безработным не является - \n",
    "# убираем такие наблюдеия\n",
    "\n",
    "data = cv.merge(employements, how='left').dropna()"
   ]
  },
  {
   "cell_type": "code",
   "execution_count": 55,
   "metadata": {},
   "outputs": [
    {
     "data": {
      "text/plain": [
       "<AxesSubplot:>"
      ]
     },
     "execution_count": 55,
     "metadata": {},
     "output_type": "execute_result"
    },
    {
     "data": {
      "image/png": "[encoded data removed]",
      "text/plain": [
       "<Figure size 720x360 with 1 Axes>"
      ]
     },
     "metadata": {},
     "output_type": "display_data"
    }
   ],
   "source": [
    "# присутствуют некорректно заполненные даты окончания работы\n",
    "\n",
    "# удалим все те наблюдения, где дата окончания занятости > 2020 года\n",
    "\n",
    "data = data[data.finish_date <= '2021-01-01']\n",
    "\n",
    "# в качестве нижней границы возьмем 2015 год\n",
    "\n",
    "data = data[data.finish_date >= '2015-01-01']\n",
    "\n",
    "sns.set(rc={'figure.figsize' : (10, 5)})\n",
    "data.finish_date.hist(bins=100)"
   ]
  },
  {
   "cell_type": "code",
   "execution_count": 54,
   "metadata": {},
   "outputs": [
    {
     "name": "stdout",
     "output_type": "stream",
     "text": [
      "<class 'pandas.core.frame.DataFrame'>\n",
      "Int64Index: 225702 entries, 0 to 437527\n",
      "Data columns (total 4 columns):\n",
      " #   Column             Non-Null Count   Dtype         \n",
      "---  ------             --------------   -----         \n",
      " 0   id                 225702 non-null  int64         \n",
      " 1   region             225702 non-null  object        \n",
      " 2   modification_date  225702 non-null  datetime64[ns]\n",
      " 3   finish_date        225702 non-null  datetime64[ns]\n",
      "dtypes: datetime64[ns](2), int64(1), object(1)\n",
      "memory usage: 8.6+ MB\n"
     ]
    }
   ],
   "source": [
    "# полученное число соискателей принимается за верхнюю границу числа\n",
    "# зарегистрированных безработных на платформе с 2015 по 2020 год \n",
    "\n",
    "data.info()"
   ]
  },
  {
   "cell_type": "code",
   "execution_count": 58,
   "metadata": {},
   "outputs": [],
   "source": [
    "# предполагаем, что modification_date находится ближе всего к моменту приглашения соискателя на работу (нижняя граница)\n",
    "\n",
    "# рассчитаем медианное время поиска соискателем работы\n",
    "\n",
    "data['time'] = data.modification_date - data.finish_date"
   ]
  },
  {
   "cell_type": "code",
   "execution_count": 66,
   "metadata": {},
   "outputs": [],
   "source": [
    "data['time'] = data.time.dt.days"
   ]
  },
  {
   "cell_type": "code",
   "execution_count": 70,
   "metadata": {},
   "outputs": [
    {
     "data": {
      "text/plain": [
       "8.6"
      ]
     },
     "execution_count": 70,
     "metadata": {},
     "output_type": "execute_result"
    }
   ],
   "source": [
    "# ~ 9 месяцев\n",
    "\n",
    "data.time.median()/30"
   ]
  },
  {
   "cell_type": "code",
   "execution_count": 79,
   "metadata": {},
   "outputs": [
    {
     "data": {
      "text/html": [
       "<div>\n",
       "<style scoped>\n",
       "    .dataframe tbody tr th:only-of-type {\n",
       "        vertical-align: middle;\n",
       "    }\n",
       "\n",
       "    .dataframe tbody tr th {\n",
       "        vertical-align: top;\n",
       "    }\n",
       "\n",
       "    .dataframe thead th {\n",
       "        text-align: right;\n",
       "    }\n",
       "</style>\n",
       "<table border=\"1\" class=\"dataframe\">\n",
       "  <thead>\n",
       "    <tr style=\"text-align: right;\">\n",
       "      <th></th>\n",
       "      <th>Год</th>\n",
       "      <th>Квартал</th>\n",
       "      <th>Месяц</th>\n",
       "      <th>Минимальный размер пособия</th>\n",
       "      <th>Максимальный размер пособия</th>\n",
       "    </tr>\n",
       "  </thead>\n",
       "  <tbody>\n",
       "    <tr>\n",
       "      <th>130</th>\n",
       "      <td>2020</td>\n",
       "      <td>4</td>\n",
       "      <td>11</td>\n",
       "      <td>1500</td>\n",
       "      <td>12130</td>\n",
       "    </tr>\n",
       "  </tbody>\n",
       "</table>\n",
       "</div>"
      ],
      "text/plain": [
       "      Год  Квартал  Месяц  Минимальный размер пособия  \\\n",
       "130  2020        4     11                        1500   \n",
       "\n",
       "     Максимальный размер пособия  \n",
       "130                        12130  "
      ]
     },
     "execution_count": 79,
     "metadata": {},
     "output_type": "execute_result"
    }
   ],
   "source": [
    "# рассчитаем коридор для суммы выплат пособий по безработице, которую можно сэкономить, если бы удалось сократить \n",
    "# средний срок поиска работы соискателями на 1 месяц\n",
    "\n",
    "# (расчеты ориентированы на ноябрь 2020 года)\n",
    "\n",
    "data = data.loc[(data.modification_date < '2020-12-01') & (data.modification_date >= '2020-11-01'), ['region']]\n",
    "unemployment_benefit = pd.read_csv(r'размер пособия по безработице.csv', sep=';', decimal=',')\n",
    "unemployment_benefit[(unemployment_benefit.Год == 2020) & \\\n",
    "                     (unemployment_benefit.Месяц == 11)]"
   ]
  },
  {
   "cell_type": "code",
   "execution_count": 80,
   "metadata": {},
   "outputs": [],
   "source": [
    "data['Минимальный_размер_пособия'] = 1500\n",
    "data['Максимальный_размер_пособия'] = 12130"
   ]
  },
  {
   "cell_type": "code",
   "execution_count": 86,
   "metadata": {},
   "outputs": [],
   "source": [
    "regional_coefficients = pd.read_csv(r'региональные коэффициенты.csv', sep=';', decimal=',')\n",
    "regional_coefficients = regional_coefficients.rename({\n",
    "    'Минимальный коэффициент' : 'Минимальный_коэффициент',\n",
    "    'Максимальный коэффициент' : 'Максимальный_коэффициент'\n",
    "}, axis=1).sort_values('Минимальный_коэффициент')"
   ]
  },
  {
   "cell_type": "code",
   "execution_count": 87,
   "metadata": {},
   "outputs": [
    {
     "data": {
      "text/html": [
       "<div>\n",
       "<style scoped>\n",
       "    .dataframe tbody tr th:only-of-type {\n",
       "        vertical-align: middle;\n",
       "    }\n",
       "\n",
       "    .dataframe tbody tr th {\n",
       "        vertical-align: top;\n",
       "    }\n",
       "\n",
       "    .dataframe thead th {\n",
       "        text-align: right;\n",
       "    }\n",
       "</style>\n",
       "<table border=\"1\" class=\"dataframe\">\n",
       "  <thead>\n",
       "    <tr style=\"text-align: right;\">\n",
       "      <th></th>\n",
       "      <th>region</th>\n",
       "      <th>Минимальный_размер_пособия</th>\n",
       "      <th>Максимальный_размер_пособия</th>\n",
       "    </tr>\n",
       "  </thead>\n",
       "  <tbody>\n",
       "    <tr>\n",
       "      <th>15</th>\n",
       "      <td>Новосибирская область</td>\n",
       "      <td>1500</td>\n",
       "      <td>12130</td>\n",
       "    </tr>\n",
       "    <tr>\n",
       "      <th>36</th>\n",
       "      <td>Амурская область</td>\n",
       "      <td>1500</td>\n",
       "      <td>12130</td>\n",
       "    </tr>\n",
       "    <tr>\n",
       "      <th>42</th>\n",
       "      <td>Брянская область</td>\n",
       "      <td>1500</td>\n",
       "      <td>12130</td>\n",
       "    </tr>\n",
       "    <tr>\n",
       "      <th>45</th>\n",
       "      <td>Пермский край</td>\n",
       "      <td>1500</td>\n",
       "      <td>12130</td>\n",
       "    </tr>\n",
       "    <tr>\n",
       "      <th>71</th>\n",
       "      <td>Тверская область</td>\n",
       "      <td>1500</td>\n",
       "      <td>12130</td>\n",
       "    </tr>\n",
       "    <tr>\n",
       "      <th>...</th>\n",
       "      <td>...</td>\n",
       "      <td>...</td>\n",
       "      <td>...</td>\n",
       "    </tr>\n",
       "    <tr>\n",
       "      <th>437198</th>\n",
       "      <td>Ханты-Мансийский автономный округ - Югра</td>\n",
       "      <td>1500</td>\n",
       "      <td>12130</td>\n",
       "    </tr>\n",
       "    <tr>\n",
       "      <th>437393</th>\n",
       "      <td>Волгоградская область</td>\n",
       "      <td>1500</td>\n",
       "      <td>12130</td>\n",
       "    </tr>\n",
       "    <tr>\n",
       "      <th>437413</th>\n",
       "      <td>Московская область</td>\n",
       "      <td>1500</td>\n",
       "      <td>12130</td>\n",
       "    </tr>\n",
       "    <tr>\n",
       "      <th>437478</th>\n",
       "      <td>Новосибирская область</td>\n",
       "      <td>1500</td>\n",
       "      <td>12130</td>\n",
       "    </tr>\n",
       "    <tr>\n",
       "      <th>437517</th>\n",
       "      <td>Алтайский край</td>\n",
       "      <td>1500</td>\n",
       "      <td>12130</td>\n",
       "    </tr>\n",
       "  </tbody>\n",
       "</table>\n",
       "<p>19250 rows × 3 columns</p>\n",
       "</div>"
      ],
      "text/plain": [
       "                                          region  Минимальный_размер_пособия  \\\n",
       "15                         Новосибирская область                        1500   \n",
       "36                              Амурская область                        1500   \n",
       "42                              Брянская область                        1500   \n",
       "45                                 Пермский край                        1500   \n",
       "71                              Тверская область                        1500   \n",
       "...                                          ...                         ...   \n",
       "437198  Ханты-Мансийский автономный округ - Югра                        1500   \n",
       "437393                     Волгоградская область                        1500   \n",
       "437413                        Московская область                        1500   \n",
       "437478                     Новосибирская область                        1500   \n",
       "437517                            Алтайский край                        1500   \n",
       "\n",
       "        Максимальный_размер_пособия  \n",
       "15                            12130  \n",
       "36                            12130  \n",
       "42                            12130  \n",
       "45                            12130  \n",
       "71                            12130  \n",
       "...                             ...  \n",
       "437198                        12130  \n",
       "437393                        12130  \n",
       "437413                        12130  \n",
       "437478                        12130  \n",
       "437517                        12130  \n",
       "\n",
       "[19250 rows x 3 columns]"
      ]
     },
     "execution_count": 87,
     "metadata": {},
     "output_type": "execute_result"
    }
   ],
   "source": [
    "data"
   ]
  },
  {
   "cell_type": "code",
   "execution_count": 90,
   "metadata": {},
   "outputs": [],
   "source": [
    "data = data.merge(regional_coefficients, how='left', left_on='region', right_on='Субъект')"
   ]
  },
  {
   "cell_type": "code",
   "execution_count": 92,
   "metadata": {},
   "outputs": [],
   "source": [
    "data['Коридор_минимум'] = data['Минимальный_размер_пособия'] * data['Минимальный_коэффициент']\n",
    "data['Коридор_максимум'] = data['Максимальный_размер_пособия'] * data['Максимальный_коэффициент']"
   ]
  },
  {
   "cell_type": "code",
   "execution_count": 95,
   "metadata": {},
   "outputs": [
    {
     "data": {
      "text/plain": [
       "Коридор_минимум      32236200.0\n",
       "Коридор_максимум    284626204.5\n",
       "dtype: float64"
      ]
     },
     "execution_count": 95,
     "metadata": {},
     "output_type": "execute_result"
    }
   ],
   "source": [
    "data[['Коридор_минимум', 'Коридор_максимум']].sum()"
   ]
  },
  {
   "cell_type": "markdown",
   "metadata": {},
   "source": [
    "Таким образом, если применение модели позволит сократить время поиска работы на 1 месяц, затраты государства на выплаты пособий по безработице сократятся на 32-284 млн руб. в условиях пандемии."
   ]
  }
 ],
 "metadata": {
  "kernelspec": {
   "display_name": "Python 3",
   "language": "python",
   "name": "python3"
  },
  "language_info": {
   "codemirror_mode": {
    "name": "ipython",
    "version": 3
   },
   "file_extension": ".py",
   "mimetype": "text/x-python",
   "name": "python",
   "nbconvert_exporter": "python",
   "pygments_lexer": "ipython3",
   "version": "3.8.6"
  }
 },
 "nbformat": 4,
 "nbformat_minor": 4
}
