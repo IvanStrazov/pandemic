{
 "cells": [
  {
   "cell_type": "code",
   "execution_count": 1,
   "metadata": {},
   "outputs": [],
   "source": [
    "%load_ext autoreload\n",
    "%autoreload 2"
   ]
  },
  {
   "cell_type": "code",
   "execution_count": 2,
   "metadata": {},
   "outputs": [],
   "source": [
    "from  process import *"
   ]
  },
  {
   "cell_type": "code",
   "execution_count": 3,
   "metadata": {},
   "outputs": [],
   "source": [
    "import pandas as pd\n",
    "import numpy as np\n",
    "from pathlib import Path\n",
    "from sklearn.model_selection import train_test_split\n",
    "from sklearn.metrics import mean_squared_log_error\n",
    "from catboost import CatBoostRegressor, Pool\n",
    "from sklearn.model_selection import train_test_split\n",
    "import matplotlib.pyplot as plt\n",
    "from hyperopt import fmin, tpe, hp, STATUS_OK, Trials"
   ]
  },
  {
   "cell_type": "code",
   "execution_count": 4,
   "metadata": {},
   "outputs": [],
   "source": [
    "from sklearn.metrics import mean_squared_error"
   ]
  },
  {
   "cell_type": "code",
   "execution_count": 5,
   "metadata": {},
   "outputs": [],
   "source": [
    "train = pd.read_parquet(Path('../data/preprocessed/adv_train.pq'))\n",
    "test = pd.read_parquet(Path('../data/preprocessed/adv_test.pq'))"
   ]
  },
  {
   "cell_type": "code",
   "execution_count": 7,
   "metadata": {},
   "outputs": [
    {
     "data": {
      "text/html": [
       "<div>\n",
       "<style scoped>\n",
       "    .dataframe tbody tr th:only-of-type {\n",
       "        vertical-align: middle;\n",
       "    }\n",
       "\n",
       "    .dataframe tbody tr th {\n",
       "        vertical-align: top;\n",
       "    }\n",
       "\n",
       "    .dataframe thead th {\n",
       "        text-align: right;\n",
       "    }\n",
       "</style>\n",
       "<table border=\"1\" class=\"dataframe\">\n",
       "  <thead>\n",
       "    <tr style=\"text-align: right;\">\n",
       "      <th></th>\n",
       "      <th>position</th>\n",
       "      <th>responsibilities_em</th>\n",
       "      <th>salary</th>\n",
       "    </tr>\n",
       "  </thead>\n",
       "  <tbody>\n",
       "    <tr>\n",
       "      <th>0</th>\n",
       "      <td>Специалист</td>\n",
       "      <td>&lt;p&gt;Консультирование клиентов по телефону. Прод...</td>\n",
       "      <td>37500</td>\n",
       "    </tr>\n",
       "    <tr>\n",
       "      <th>1</th>\n",
       "      <td>Лаборант</td>\n",
       "      <td>&lt;p&gt;&lt;strong&gt;✑&lt;/strong&gt;&lt;strong&gt;Фриланс&lt;/strong&gt;&lt;...</td>\n",
       "      <td>14000</td>\n",
       "    </tr>\n",
       "    <tr>\n",
       "      <th>2</th>\n",
       "      <td>Специалист, администратор, бухгалтер, экономист</td>\n",
       "      <td>&lt;p&gt;Работа с клиентами, оформление договоров&lt;/p&gt;</td>\n",
       "      <td>24600</td>\n",
       "    </tr>\n",
       "    <tr>\n",
       "      <th>3</th>\n",
       "      <td>Специалист</td>\n",
       "      <td>&lt;p&gt;Обслуживание физических лиц, активное привл...</td>\n",
       "      <td>16075</td>\n",
       "    </tr>\n",
       "    <tr>\n",
       "      <th>4</th>\n",
       "      <td>Инструктор по плаванию</td>\n",
       "      <td>&lt;p&gt;Проведение обучающих и оздоровительных заня...</td>\n",
       "      <td>22080</td>\n",
       "    </tr>\n",
       "    <tr>\n",
       "      <th>...</th>\n",
       "      <td>...</td>\n",
       "      <td>...</td>\n",
       "      <td>...</td>\n",
       "    </tr>\n",
       "    <tr>\n",
       "      <th>306265</th>\n",
       "      <td>Продавец консультант.</td>\n",
       "      <td>&lt;p&gt;Скупка электроники, продажа, конструкция кл...</td>\n",
       "      <td>27600</td>\n",
       "    </tr>\n",
       "    <tr>\n",
       "      <th>306266</th>\n",
       "      <td>менеджер</td>\n",
       "      <td>&lt;p&gt;Пожаротушение, осушествление противопожарно...</td>\n",
       "      <td>22000</td>\n",
       "    </tr>\n",
       "    <tr>\n",
       "      <th>306267</th>\n",
       "      <td>Руководитель</td>\n",
       "      <td>None</td>\n",
       "      <td>97165</td>\n",
       "    </tr>\n",
       "    <tr>\n",
       "      <th>306268</th>\n",
       "      <td>инженер</td>\n",
       "      <td>&lt;p&gt;разработка документации, в соотвествии с тр...</td>\n",
       "      <td>27600</td>\n",
       "    </tr>\n",
       "    <tr>\n",
       "      <th>306269</th>\n",
       "      <td>Курьер</td>\n",
       "      <td>&lt;p&gt;Логистика: доставка и перенос ценностей(юве...</td>\n",
       "      <td>32500</td>\n",
       "    </tr>\n",
       "  </tbody>\n",
       "</table>\n",
       "<p>306270 rows × 3 columns</p>\n",
       "</div>"
      ],
      "text/plain": [
       "                                               position  \\\n",
       "0                                            Специалист   \n",
       "1                                              Лаборант   \n",
       "2       Специалист, администратор, бухгалтер, экономист   \n",
       "3                                            Специалист   \n",
       "4                                Инструктор по плаванию   \n",
       "...                                                 ...   \n",
       "306265                            Продавец консультант.   \n",
       "306266                                         менеджер   \n",
       "306267                                     Руководитель   \n",
       "306268                                          инженер   \n",
       "306269                                           Курьер   \n",
       "\n",
       "                                      responsibilities_em  salary  \n",
       "0       <p>Консультирование клиентов по телефону. Прод...   37500  \n",
       "1       <p><strong>✑</strong><strong>Фриланс</strong><...   14000  \n",
       "2         <p>Работа с клиентами, оформление договоров</p>   24600  \n",
       "3       <p>Обслуживание физических лиц, активное привл...   16075  \n",
       "4       <p>Проведение обучающих и оздоровительных заня...   22080  \n",
       "...                                                   ...     ...  \n",
       "306265  <p>Скупка электроники, продажа, конструкция кл...   27600  \n",
       "306266  <p>Пожаротушение, осушествление противопожарно...   22000  \n",
       "306267                                               None   97165  \n",
       "306268  <p>разработка документации, в соотвествии с тр...   27600  \n",
       "306269  <p>Логистика: доставка и перенос ценностей(юве...   32500  \n",
       "\n",
       "[306270 rows x 3 columns]"
      ]
     },
     "execution_count": 7,
     "metadata": {},
     "output_type": "execute_result"
    }
   ],
   "source": [
    "train[['position', 'responsibilities_em', 'salary']]"
   ]
  },
  {
   "cell_type": "code",
   "execution_count": 8,
   "metadata": {},
   "outputs": [],
   "source": [
    "import re\n",
    "import numpy as np\n",
    "\n",
    "def extract_text(text):\n",
    "    try:\n",
    "        text = re.sub(r\"(?:<.*?>|[^А-я\\s])\", \" \", text).strip()\n",
    "        return re.sub(r\"\\s+\", \" \", text)\n",
    "    except TypeError:\n",
    "        return np.nan\n",
    "\n",
    "train[\"responsibilities\"] = train[\"responsibilities_em\"].apply(lambda x: extract_text(x))\n",
    "train[\"achievements\"] = train[\"achievements_em\"].apply(lambda x: extract_text(x))\n",
    "\n",
    "test[\"responsibilities\"] = test[\"responsibilities_em\"].apply(lambda x: extract_text(x))\n",
    "test[\"achievements\"] = test[\"achievements_em\"].apply(lambda x: extract_text(x))"
   ]
  },
  {
   "cell_type": "code",
   "execution_count": 11,
   "metadata": {},
   "outputs": [],
   "source": [
    "train[['position', 'responsibilities', 'achievements', 'salary']].to_parquet(\n",
    "    Path('../data/preprocessed/bert_train.pq'))"
   ]
  },
  {
   "cell_type": "code",
   "execution_count": 12,
   "metadata": {},
   "outputs": [],
   "source": [
    "test[['position', 'responsibilities', 'achievements']].to_parquet(\n",
    "    Path('../data/preprocessed/bert_test.pq'))"
   ]
  }
 ],
 "metadata": {
  "kernelspec": {
   "display_name": "Python 3",
   "language": "python",
   "name": "python3"
  },
  "language_info": {
   "codemirror_mode": {
    "name": "ipython",
    "version": 3
   },
   "file_extension": ".py",
   "mimetype": "text/x-python",
   "name": "python",
   "nbconvert_exporter": "python",
   "pygments_lexer": "ipython3",
   "version": "3.7.6"
  },
  "toc": {
   "base_numbering": 1,
   "nav_menu": {},
   "number_sections": true,
   "sideBar": true,
   "skip_h1_title": false,
   "title_cell": "Table of Contents",
   "title_sidebar": "Contents",
   "toc_cell": false,
   "toc_position": {},
   "toc_section_display": true,
   "toc_window_display": false
  }
 },
 "nbformat": 4,
 "nbformat_minor": 4
}
