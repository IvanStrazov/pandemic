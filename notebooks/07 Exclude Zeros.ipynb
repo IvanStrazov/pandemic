{
 "cells": [
  {
   "cell_type": "code",
   "execution_count": 1,
   "metadata": {},
   "outputs": [],
   "source": [
    "%load_ext autoreload\n",
    "%autoreload 2"
   ]
  },
  {
   "cell_type": "code",
   "execution_count": 2,
   "metadata": {},
   "outputs": [],
   "source": [
    "from  process import *"
   ]
  },
  {
   "cell_type": "code",
   "execution_count": 3,
   "metadata": {},
   "outputs": [],
   "source": [
    "import pandas as pd\n",
    "import numpy as np\n",
    "from pathlib import Path\n",
    "from sklearn.model_selection import train_test_split\n",
    "from sklearn.metrics import mean_squared_log_error\n",
    "from catboost import CatBoostRegressor, Pool\n",
    "from sklearn.model_selection import train_test_split\n",
    "import matplotlib.pyplot as plt"
   ]
  },
  {
   "cell_type": "code",
   "execution_count": 4,
   "metadata": {},
   "outputs": [],
   "source": [
    "train = pd.read_parquet(Path('../data/preprocessed/train.pq'))\n",
    "test = pd.read_parquet(Path('../data/preprocessed/test.pq'))"
   ]
  },
  {
   "cell_type": "code",
   "execution_count": 5,
   "metadata": {},
   "outputs": [],
   "source": [
    "pd.set_option('display.max_columns', 100)\n",
    "pd.set_option('display.max_rows', 100)"
   ]
  },
  {
   "cell_type": "markdown",
   "metadata": {},
   "source": [
    "Начинаем докидывать данные"
   ]
  },
  {
   "cell_type": "code",
   "execution_count": 6,
   "metadata": {},
   "outputs": [],
   "source": [
    "# Добавляем Locality от Ивана\n",
    "train['loc_enc'] = train[\"locality\"].astype(str).str[8:11] \n",
    "train['loc_enc'] = train['loc_enc'].apply(lambda x: \"0\" if len(x)!=3 else x)\n",
    "\n",
    "test['loc_enc'] = test[\"locality\"].astype(str).str[8:11] \n",
    "test['loc_enc'] = test['loc_enc'].apply(lambda x: \"0\" if len(x)!=3 else x)\n",
    "\n",
    "CAT_FEATURES += ['loc_enc']\n",
    "CAT_FEATURES = list(set(CAT_FEATURES))"
   ]
  },
  {
   "cell_type": "code",
   "execution_count": 7,
   "metadata": {},
   "outputs": [],
   "source": [
    "# Добавляем региональные фичи от Ивана\n",
    "region_code_features = pd.read_csv(Path('../data/external/region_code_features.csv')) \n",
    "train = train.merge(region_code_features, on=\"region\", how=\"left\")\n",
    "test = test.merge(region_code_features, on=\"region\", how=\"left\")"
   ]
  },
  {
   "cell_type": "code",
   "execution_count": 8,
   "metadata": {},
   "outputs": [],
   "source": [
    "for col in ['rfs', 'rts', 'rr_k', 'rr_cl',\n",
    "            'tfs', 'tts', 'tr_k', 'tr_cl',\n",
    "            'gfs', 'gts', 'gr_k', 'gr_cl',\n",
    "            'rrfs', 'rrts', 'rrr_k', 'rrr_cl']:\n",
    "    if col.endswith(\"_cl\"):\n",
    "        train.loc[:, col] = train.loc[:, col].fillna(-1)\n",
    "        test.loc[:, col] = test.loc[:, col].fillna(-1)\n",
    "    else:\n",
    "        median = train.loc[:, col].median()\n",
    "        train.loc[:, col] = train.loc[:, col].fillna(median)\n",
    "        test.loc[:, col] = test.loc[:, col].fillna(median)"
   ]
  },
  {
   "cell_type": "code",
   "execution_count": 9,
   "metadata": {},
   "outputs": [],
   "source": [
    "# Добавляем образовательные фичи от Ивана\n",
    "agg_education_mult = pd.read_csv(Path('../data/external/agg_education_mult.csv'))\n",
    "train = train.merge(agg_education_mult, on=\"id\", how=\"left\")\n",
    "train.loc[:, [\"ins_all\", \"ins_diff\", \"year_min\", \"year_max\"]] = \\\n",
    "    train.loc[:, [\"ins_all\", \"ins_diff\", \"year_min\", \"year_max\"]].fillna(-1)\n",
    "test = test.merge(agg_education_mult, on=\"id\", how=\"left\")\n",
    "test.loc[:, [\"ins_all\", \"ins_diff\", \"year_min\", \"year_max\"]] = \\\n",
    "    test.loc[:, [\"ins_all\", \"ins_diff\", \"year_min\", \"year_max\"]].fillna(-1)"
   ]
  },
  {
   "cell_type": "code",
   "execution_count": 10,
   "metadata": {},
   "outputs": [],
   "source": [
    "# Добавляем фичи от Кати\n",
    "cols = ['city', 'city_population', 'adm_center',\n",
    "       'is_million', 'hugest_city', 'huge_city',\n",
    "       'big_city', 'avg_city']\n",
    "cities = pd.read_csv(Path('../data/external/city_features.csv'))\n",
    "cities.columns = ['city', 'city_population', 'adm_center',\n",
    "       'is_million', 'hugest_city', 'huge_city',\n",
    "       'big_city', 'avg_city']\n"
   ]
  },
  {
   "cell_type": "code",
   "execution_count": 11,
   "metadata": {},
   "outputs": [],
   "source": [
    "train = train.merge(cities, how='left', left_on='locality_name', right_on='city')\n",
    "test = test.merge(cities, how='left', left_on='locality_name', right_on='city')"
   ]
  },
  {
   "cell_type": "code",
   "execution_count": 12,
   "metadata": {},
   "outputs": [],
   "source": [
    "train.loc[:, ['city_population', 'adm_center',\n",
    "       'is_million', 'hugest_city', 'huge_city',\n",
    "       'big_city', 'avg_city']] = \\\n",
    "    train.loc[:, ['city_population', 'adm_center',\n",
    "       'is_million', 'hugest_city', 'huge_city',\n",
    "       'big_city', 'avg_city']].fillna(-1)\n",
    "test.loc[:, ['city_population', 'adm_center',\n",
    "       'is_million', 'hugest_city', 'huge_city',\n",
    "       'big_city', 'avg_city']] = \\\n",
    "    test.loc[:, ['city_population', 'adm_center',\n",
    "       'is_million', 'hugest_city', 'huge_city',\n",
    "       'big_city', 'avg_city']].fillna(-1)"
   ]
  },
  {
   "cell_type": "code",
   "execution_count": 13,
   "metadata": {},
   "outputs": [],
   "source": [
    "train.drop(columns=['city'], inplace = True)\n",
    "test.drop(columns=['city'], inplace = True)"
   ]
  },
  {
   "cell_type": "code",
   "execution_count": 14,
   "metadata": {},
   "outputs": [],
   "source": [
    "train.drop(columns=['adm_center',\n",
    "       'is_million', 'hugest_city', 'huge_city',\n",
    "       'big_city', 'avg_city'], inplace = True)\n",
    "test.drop(columns=['adm_center',\n",
    "       'is_million', 'hugest_city', 'huge_city',\n",
    "       'big_city', 'avg_city'], inplace = True)"
   ]
  },
  {
   "cell_type": "code",
   "execution_count": 15,
   "metadata": {},
   "outputs": [],
   "source": [
    "def merge_macro(df, macro):\n",
    "    df = df.copy()\n",
    "    df['publish_year'] = pd.to_datetime(df.modification_date).dt.year\n",
    "    df['publish_month'] = pd.to_datetime(df.modification_date).dt.month\n",
    "    return df.merge(macro, left_on=['publish_year', 'publish_month', 'region'], \n",
    "                       right_on=['Год', 'Месяц', 'Регион'], how='left').\\\n",
    "                       drop(['Год', 'Месяц', 'Регион', 'Квартал'], axis=1).drop(\n",
    "        columns=['publish_year', 'publish_month'])"
   ]
  },
  {
   "cell_type": "code",
   "execution_count": null,
   "metadata": {},
   "outputs": [],
   "source": [
    "# def data_merge(df, ext_df, suffix):\n",
    "#     ext_df = ext_df.copy()\n",
    "#     ext_df.columns = [f'{c}{suffix}'  if c != 'id' else c for c in ext_df.columns]\n",
    "#     df['publish_year'] = pd.to_datetime(df.publish_date).dt.year.astype(str)\n",
    "#     df['publish_month'] = pd.to_datetime(df.publish_date).dt.month.astype(str)\n",
    "#     return df.merge(ext_df, how='left', on='id')"
   ]
  },
  {
   "cell_type": "code",
   "execution_count": 16,
   "metadata": {},
   "outputs": [],
   "source": [
    "macro = pd.read_csv(Path('../data/external/macro_region_features.csv'))"
   ]
  },
  {
   "cell_type": "code",
   "execution_count": 18,
   "metadata": {},
   "outputs": [],
   "source": [
    "train = merge_macro(train, macro)\n",
    "test = merge_macro(test, macro)"
   ]
  },
  {
   "cell_type": "code",
   "execution_count": 19,
   "metadata": {},
   "outputs": [],
   "source": [
    "train.loc[:, ['МРОТ_бюджетная_сфера',\n",
    "       'МРОТ_внебюджетная_сфера', 'Регистрируемая_безработица',\n",
    "       'Общая_безработица', 'Рабочая_сила', 'Уровень_цен',\n",
    "       'Минимальный_районный_коэффициент', 'Максимальный_районный_коэффициент',\n",
    "       'Площадь_региона', 'Доля_городского_населения', 'Количество_юр_лиц']] = \\\n",
    "    train.loc[:, ['МРОТ_бюджетная_сфера',\n",
    "       'МРОТ_внебюджетная_сфера', 'Регистрируемая_безработица',\n",
    "       'Общая_безработица', 'Рабочая_сила', 'Уровень_цен',\n",
    "       'Минимальный_районный_коэффициент', 'Максимальный_районный_коэффициент',\n",
    "       'Площадь_региона', 'Доля_городского_населения', 'Количество_юр_лиц']].fillna(-1)\n",
    "test.loc[:, ['МРОТ_бюджетная_сфера',\n",
    "       'МРОТ_внебюджетная_сфера', 'Регистрируемая_безработица',\n",
    "       'Общая_безработица', 'Рабочая_сила', 'Уровень_цен',\n",
    "       'Минимальный_районный_коэффициент', 'Максимальный_районный_коэффициент',\n",
    "       'Площадь_региона', 'Доля_городского_населения', 'Количество_юр_лиц']] = \\\n",
    "    test.loc[:, ['МРОТ_бюджетная_сфера',\n",
    "       'МРОТ_внебюджетная_сфера', 'Регистрируемая_безработица',\n",
    "       'Общая_безработица', 'Рабочая_сила', 'Уровень_цен',\n",
    "       'Минимальный_районный_коэффициент', 'Максимальный_районный_коэффициент',\n",
    "       'Площадь_региона', 'Доля_городского_населения', 'Количество_юр_лиц']].fillna(-1)"
   ]
  },
  {
   "cell_type": "code",
   "execution_count": 20,
   "metadata": {},
   "outputs": [],
   "source": [
    "work_gr = pd.read_csv(Path('../data/external/work_gr.csv'))\n",
    "train = train.merge(work_gr, on=\"id\", how=\"left\")\n",
    "test = test.merge(work_gr, on=\"id\", how=\"left\")\n",
    "work_cols = [\"pos_count\", \"pos_uniq\", \"emp_uniq\", \"day_exp\", \"day_free\"]\n",
    "test.loc[:, work_cols] = test.loc[:, work_cols].fillna(-1)\n",
    "train.loc[:, work_cols] = train.loc[:, work_cols].fillna(-1)"
   ]
  },
  {
   "cell_type": "code",
   "execution_count": 21,
   "metadata": {},
   "outputs": [
    {
     "data": {
      "text/plain": [
       "id                                        0\n",
       "position                                  0\n",
       "region                                    0\n",
       "industry                                  0\n",
       "locality                                  0\n",
       "locality_name                             0\n",
       "education_type                            0\n",
       "drive_licences                            0\n",
       "citizenship                               0\n",
       "schedule                                  0\n",
       "employement_type                          0\n",
       "age                                       0\n",
       "gender                                    0\n",
       "experience                                0\n",
       "salary_desired                            0\n",
       "relocation_ready                          0\n",
       "travel_ready                              0\n",
       "retraining_ready                          0\n",
       "is_worldskills_participant                0\n",
       "has_qualifications                        0\n",
       "completeness_rate                         0\n",
       "creation_date                             7\n",
       "modification_date                         7\n",
       "publish_date                              0\n",
       "salary                                    0\n",
       "position_em                           73271\n",
       "employer_em                           67786\n",
       "achievements_em                      268402\n",
       "responsibilities_em                   68026\n",
       "start_date_em                         67372\n",
       "finish_date_em                       100082\n",
       "status_ws                                 0\n",
       "code_ws                              305567\n",
       "is_international_ws                  305556\n",
       "int_name_ws                          305636\n",
       "ru_name_ws                           305556\n",
       "graduation_year_ed                        0\n",
       "institution_ed                        43586\n",
       "description_ed                       306227\n",
       "we_age_mnth                               0\n",
       "unemp                                     0\n",
       "pub_age_mnth                              0\n",
       "loc_enc                                   0\n",
       "rfs                                       0\n",
       "rts                                       0\n",
       "rr_k                                      0\n",
       "rr_cl                                     0\n",
       "tfs                                       0\n",
       "tts                                       0\n",
       "tr_k                                      0\n",
       "tr_cl                                     0\n",
       "gfs                                       0\n",
       "gts                                       0\n",
       "gr_k                                      0\n",
       "gr_cl                                     0\n",
       "rrfs                                      0\n",
       "rrts                                      0\n",
       "rrr_k                                     0\n",
       "rrr_cl                                    0\n",
       "ins_all                                   0\n",
       "ins_diff                                  0\n",
       "year_min                                  0\n",
       "year_max                                  0\n",
       "city_population                           0\n",
       "МРОТ_бюджетная_сфера                      0\n",
       "МРОТ_внебюджетная_сфера                   0\n",
       "Регистрируемая_безработица                0\n",
       "Общая_безработица                         0\n",
       "Рабочая_сила                              0\n",
       "Уровень_цен                               0\n",
       "Минимальный_районный_коэффициент          0\n",
       "Максимальный_районный_коэффициент         0\n",
       "Площадь_региона                           0\n",
       "Доля_городского_населения                 0\n",
       "Количество_юр_лиц                         0\n",
       "pos_count                                 0\n",
       "pos_uniq                                  0\n",
       "emp_uniq                                  0\n",
       "day_exp                                   0\n",
       "day_free                                  0\n",
       "dtype: int64"
      ]
     },
     "execution_count": 21,
     "metadata": {},
     "output_type": "execute_result"
    }
   ],
   "source": [
    "train.isnull().sum()"
   ]
  },
  {
   "cell_type": "code",
   "execution_count": 22,
   "metadata": {},
   "outputs": [],
   "source": [
    "train_n = train.drop(columns=DROP_FEATURES)\n",
    "test_n = test.drop(columns=DROP_FEATURES)"
   ]
  },
  {
   "cell_type": "code",
   "execution_count": 23,
   "metadata": {},
   "outputs": [],
   "source": [
    "X_train, X_val = train_test_split(train_n.drop(columns=['id']), train_size=0.7, random_state=42)"
   ]
  },
  {
   "cell_type": "code",
   "execution_count": 24,
   "metadata": {},
   "outputs": [],
   "source": [
    "X_train = X_train[X_train.salary > 0].copy()"
   ]
  },
  {
   "cell_type": "code",
   "execution_count": 25,
   "metadata": {},
   "outputs": [
    {
     "data": {
      "text/plain": [
       "set()"
      ]
     },
     "execution_count": 25,
     "metadata": {},
     "output_type": "execute_result"
    }
   ],
   "source": [
    "set(CAT_FEATURES) - set(train_n.columns)"
   ]
  },
  {
   "cell_type": "code",
   "execution_count": 26,
   "metadata": {},
   "outputs": [],
   "source": [
    "train_pool = Pool(X_train.drop(columns=['salary']), np.log(X_train['salary']+1), cat_features=CAT_FEATURES)"
   ]
  },
  {
   "cell_type": "code",
   "execution_count": 27,
   "metadata": {},
   "outputs": [],
   "source": [
    "val_pool = Pool(X_val.drop(columns=['salary']), np.log(X_val['salary']+1), cat_features=CAT_FEATURES)"
   ]
  },
  {
   "cell_type": "code",
   "execution_count": 28,
   "metadata": {},
   "outputs": [],
   "source": [
    "est = CatBoostRegressor(random_state=42, \n",
    "                        task_type=\"GPU\", \n",
    "#                         objective=\"Tweedie:variance_power=1.5\", \n",
    "                        objective=\"RMSE\",\n",
    "#                         eval_metric=\"MSLE\"\n",
    "                        n_estimators=1000\n",
    "                       )"
   ]
  },
  {
   "cell_type": "code",
   "execution_count": 29,
   "metadata": {},
   "outputs": [
    {
     "name": "stdout",
     "output_type": "stream",
     "text": [
      "Learning rate set to 0.168094\n",
      "0:\tlearn: 0.5784032\ttest: 1.0844978\tbest: 1.0844978 (0)\ttotal: 55.8ms\tremaining: 55.8s\n",
      "100:\tlearn: 0.4319428\ttest: 1.0144280\tbest: 1.0144280 (100)\ttotal: 5.62s\tremaining: 50s\n",
      "200:\tlearn: 0.4260142\ttest: 1.0123210\tbest: 1.0123210 (200)\ttotal: 11.4s\tremaining: 45.4s\n",
      "300:\tlearn: 0.4228507\ttest: 1.0116159\tbest: 1.0116159 (300)\ttotal: 17.2s\tremaining: 40s\n",
      "400:\tlearn: 0.4205292\ttest: 1.0112039\tbest: 1.0112039 (400)\ttotal: 23.1s\tremaining: 34.5s\n",
      "500:\tlearn: 0.4190904\ttest: 1.0110958\tbest: 1.0110858 (477)\ttotal: 28.9s\tremaining: 28.8s\n",
      "600:\tlearn: 0.4179501\ttest: 1.0109830\tbest: 1.0109702 (587)\ttotal: 34.7s\tremaining: 23s\n",
      "700:\tlearn: 0.4166944\ttest: 1.0108519\tbest: 1.0108491 (697)\ttotal: 40.7s\tremaining: 17.4s\n",
      "800:\tlearn: 0.4155112\ttest: 1.0107464\tbest: 1.0107137 (776)\ttotal: 46.6s\tremaining: 11.6s\n",
      "900:\tlearn: 0.4144454\ttest: 1.0106932\tbest: 1.0106842 (897)\ttotal: 52.6s\tremaining: 5.78s\n",
      "999:\tlearn: 0.4134505\ttest: 1.0106590\tbest: 1.0106210 (953)\ttotal: 58.4s\tremaining: 0us\n",
      "bestTest = 1.010620962\n",
      "bestIteration = 953\n",
      "Shrink model to first 954 iterations.\n"
     ]
    },
    {
     "data": {
      "text/plain": [
       "<catboost.core.CatBoostRegressor at 0x2c000052508>"
      ]
     },
     "execution_count": 29,
     "metadata": {},
     "output_type": "execute_result"
    }
   ],
   "source": [
    "est.fit(train_pool, eval_set=val_pool, verbose_eval=100)"
   ]
  },
  {
   "cell_type": "code",
   "execution_count": 30,
   "metadata": {},
   "outputs": [
    {
     "data": {
      "image/png": "[encoded data removed]",
      "text/plain": [
       "<Figure size 720x720 with 1 Axes>"
      ]
     },
     "metadata": {
      "needs_background": "light"
     },
     "output_type": "display_data"
    }
   ],
   "source": [
    "importance = sorted(zip(X_train.drop(columns=['salary']).columns, est.feature_importances_), key=lambda x: x[1], reverse=True)\n",
    "imp = list(reversed(importance[:40]))\n",
    "plt.figure(figsize=(10,10))\n",
    "plt.title('Feature Importances ABS')\n",
    "plt.barh(range(len(imp)), [x[1] for x in imp], color='b', align='center')\n",
    "plt.yticks(range(len(imp)), [x[0] for x in imp])\n",
    "plt.xlabel('Relative Importance')\n",
    "plt.show()"
   ]
  },
  {
   "cell_type": "code",
   "execution_count": 31,
   "metadata": {},
   "outputs": [
    {
     "data": {
      "text/plain": [
       "1.01062137770975"
      ]
     },
     "execution_count": 31,
     "metadata": {},
     "output_type": "execute_result"
    }
   ],
   "source": [
    "np.sqrt(mean_squared_log_error(X_val['salary'], np.exp(est.predict(val_pool))-1))"
   ]
  },
  {
   "cell_type": "markdown",
   "metadata": {},
   "source": [
    "* 1.0002459540809223\n",
    "* 0.9989720927549951\n",
    "* 0.999892639641595\n",
    "* Last best is 1.0013057978090611"
   ]
  },
  {
   "cell_type": "code",
   "execution_count": 32,
   "metadata": {},
   "outputs": [
    {
     "data": {
      "text/plain": [
       "0.387861470034614"
      ]
     },
     "execution_count": 32,
     "metadata": {},
     "output_type": "execute_result"
    }
   ],
   "source": [
    "np.sqrt(mean_squared_log_error(X_train['salary'], np.exp(est.predict(train_pool))-1))"
   ]
  },
  {
   "cell_type": "markdown",
   "metadata": {},
   "source": [
    "* 0.9782895609871397\n",
    "* 0.9617807300376762\n",
    "* 0.9670232079275483\n",
    "* Last best is 0.9706161322898464"
   ]
  },
  {
   "cell_type": "code",
   "execution_count": 33,
   "metadata": {},
   "outputs": [],
   "source": [
    "train_n_z = train_n[train_n.salary > 0].copy()"
   ]
  },
  {
   "cell_type": "code",
   "execution_count": 34,
   "metadata": {},
   "outputs": [
    {
     "name": "stdout",
     "output_type": "stream",
     "text": [
      "Learning rate set to 0.164987\n",
      "0:\tlearn: 0.5788880\ttotal: 79.6ms\tremaining: 1m 19s\n",
      "100:\tlearn: 0.4328531\ttotal: 6.39s\tremaining: 56.9s\n",
      "200:\tlearn: 0.4273089\ttotal: 13s\tremaining: 51.7s\n",
      "300:\tlearn: 0.4246445\ttotal: 19.5s\tremaining: 45.4s\n",
      "400:\tlearn: 0.4226135\ttotal: 26.2s\tremaining: 39.1s\n",
      "500:\tlearn: 0.4210860\ttotal: 32.7s\tremaining: 32.6s\n",
      "600:\tlearn: 0.4197916\ttotal: 39.4s\tremaining: 26.1s\n",
      "700:\tlearn: 0.4187274\ttotal: 46.1s\tremaining: 19.7s\n",
      "800:\tlearn: 0.4177021\ttotal: 52.8s\tremaining: 13.1s\n",
      "900:\tlearn: 0.4167536\ttotal: 59.6s\tremaining: 6.55s\n",
      "999:\tlearn: 0.4158898\ttotal: 1m 6s\tremaining: 0us\n"
     ]
    },
    {
     "data": {
      "text/plain": [
       "<catboost.core.CatBoostRegressor at 0x2c000052508>"
      ]
     },
     "execution_count": 34,
     "metadata": {},
     "output_type": "execute_result"
    }
   ],
   "source": [
    "est.fit(train_n_z.drop(columns=['id', 'salary']), \n",
    "        np.log(train_n_z['salary']+1), \n",
    "        verbose_eval=100,\n",
    "       cat_features=CAT_FEATURES)"
   ]
  },
  {
   "cell_type": "code",
   "execution_count": 35,
   "metadata": {},
   "outputs": [
    {
     "data": {
      "text/plain": [
       "0.38674707260956603"
      ]
     },
     "execution_count": 35,
     "metadata": {},
     "output_type": "execute_result"
    }
   ],
   "source": [
    "np.sqrt(mean_squared_log_error(train_n_z['salary'], \n",
    "                               np.exp(est.predict(train_n_z.drop(columns=['id', 'salary'])))-1))"
   ]
  },
  {
   "cell_type": "markdown",
   "metadata": {},
   "source": [
    "* 0.9759966198964987\n",
    "* 0.9624461592641188\n",
    "* Last best is 0.959510799941904"
   ]
  },
  {
   "cell_type": "code",
   "execution_count": 36,
   "metadata": {},
   "outputs": [],
   "source": [
    "predict=np.exp(est.predict(test_n.drop(columns=['id'])))-1"
   ]
  },
  {
   "cell_type": "code",
   "execution_count": 37,
   "metadata": {},
   "outputs": [],
   "source": [
    "sub = test_n[['id']].copy()"
   ]
  },
  {
   "cell_type": "code",
   "execution_count": 38,
   "metadata": {},
   "outputs": [],
   "source": [
    "sub['salary'] = predict"
   ]
  },
  {
   "cell_type": "code",
   "execution_count": 39,
   "metadata": {},
   "outputs": [],
   "source": [
    "sub.to_csv(Path('../submissions/cb_3_zeros_out_sub.csv'), index=False, sep=\",\")"
   ]
  }
 ],
 "metadata": {
  "kernelspec": {
   "display_name": "Python 3",
   "language": "python",
   "name": "python3"
  },
  "language_info": {
   "codemirror_mode": {
    "name": "ipython",
    "version": 3
   },
   "file_extension": ".py",
   "mimetype": "text/x-python",
   "name": "python",
   "nbconvert_exporter": "python",
   "pygments_lexer": "ipython3",
   "version": "3.7.6"
  },
  "toc": {
   "base_numbering": 1,
   "nav_menu": {},
   "number_sections": true,
   "sideBar": true,
   "skip_h1_title": false,
   "title_cell": "Table of Contents",
   "title_sidebar": "Contents",
   "toc_cell": false,
   "toc_position": {},
   "toc_section_display": true,
   "toc_window_display": false
  }
 },
 "nbformat": 4,
 "nbformat_minor": 4
}
