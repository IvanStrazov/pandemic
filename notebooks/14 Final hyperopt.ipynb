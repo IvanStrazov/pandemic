{
 "cells": [
  {
   "cell_type": "code",
   "execution_count": 2,
   "metadata": {},
   "outputs": [],
   "source": [
    "%load_ext autoreload\n",
    "%autoreload 2"
   ]
  },
  {
   "cell_type": "code",
   "execution_count": 3,
   "metadata": {},
   "outputs": [],
   "source": [
    "from  process import *"
   ]
  },
  {
   "cell_type": "code",
   "execution_count": 9,
   "metadata": {},
   "outputs": [],
   "source": [
    "import pandas as pd\n",
    "import numpy as np\n",
    "from pathlib import Path\n",
    "from sklearn.model_selection import train_test_split\n",
    "from sklearn.metrics import mean_squared_log_error\n",
    "from catboost import CatBoostRegressor, Pool\n",
    "from sklearn.model_selection import train_test_split\n",
    "import matplotlib.pyplot as plt\n",
    "from hyperopt import fmin, tpe, hp, STATUS_OK, Trials\n",
    "import joblib"
   ]
  },
  {
   "cell_type": "code",
   "execution_count": 4,
   "metadata": {},
   "outputs": [],
   "source": [
    "from sklearn.metrics import mean_squared_error"
   ]
  },
  {
   "cell_type": "code",
   "execution_count": 5,
   "metadata": {},
   "outputs": [],
   "source": [
    "def RMSE(y_true, y_pred):\n",
    "    return np.sqrt(mean_squared_error(y_true, y_pred))"
   ]
  },
  {
   "cell_type": "code",
   "execution_count": 6,
   "metadata": {},
   "outputs": [],
   "source": [
    "train = pd.read_parquet(Path('../data/preprocessed/adv_train.pq'))\n",
    "test = pd.read_parquet(Path('../data/preprocessed/adv_test.pq'))"
   ]
  },
  {
   "cell_type": "code",
   "execution_count": 7,
   "metadata": {},
   "outputs": [],
   "source": [
    "#extra date feature\n",
    "train, test = set_age2(train, test)"
   ]
  },
  {
   "cell_type": "code",
   "execution_count": 10,
   "metadata": {},
   "outputs": [],
   "source": [
    "#features form bert\n",
    "train1 = joblib.load(Path('../data/preprocessed/train_pred1.bin'))\n",
    "train2 = joblib.load(Path('../data/preprocessed/train_pred2.bin'))\n",
    "test1 = joblib.load(Path('../data/preprocessed/pred1.bin'))\n",
    "test2 = joblib.load(Path('../data/preprocessed/pred2.bin'))\n",
    "train['rbrt'] = train1\n",
    "train['rbrt_sent'] = train2\n",
    "test['rbrt'] = test1\n",
    "test['rbrt_sent'] = test2"
   ]
  },
  {
   "cell_type": "code",
   "execution_count": 11,
   "metadata": {},
   "outputs": [],
   "source": [
    "pd.set_option('display.max_columns', 100)\n",
    "pd.set_option('display.max_rows', 100)"
   ]
  },
  {
   "cell_type": "code",
   "execution_count": 12,
   "metadata": {},
   "outputs": [],
   "source": [
    "train_n = train.drop(columns=DROP_FEATURES)\n",
    "test_n = test.drop(columns=DROP_FEATURES)"
   ]
  },
  {
   "cell_type": "code",
   "execution_count": 13,
   "metadata": {},
   "outputs": [],
   "source": [
    "class Tuner:\n",
    "    \"\"\"\n",
    "    Search best hyperparameters for model.\n",
    "    \"\"\"\n",
    "\n",
    "    def __init__(self, model, train_pool, val_pool, space, common_params={}, fit_params={}, int_params=[]):\n",
    "        \"\"\"\n",
    "        Initialization.\n",
    "\n",
    "        Parameters:\n",
    "            model (Model) - ML model with sklearn API.\n",
    "            train_pool (catboost.Pool, dim=(n,m)) - training data.\n",
    "            val_pool (catboost.Pool, dim=(k,m)) - validation data.\n",
    "            space (dict) - space for searching hyperparameters.\n",
    "            common_params (dict) - common model's parameters.\n",
    "            fit_params (dict) - parameters for method 'fit'.\n",
    "            int_params (list) - list of integer parameters.\n",
    "        \"\"\"\n",
    "        \n",
    "        self.__model = model\n",
    "        self.__train_pool = train_pool\n",
    "        self.__val_pool = val_pool\n",
    "        self.__space = space\n",
    "        self.__common_params = common_params\n",
    "        self.__fit_params = fit_params\n",
    "        self.__int_params = int_params\n",
    "    \n",
    "\n",
    "    def __params2int(self, params):\n",
    "        \"\"\"\n",
    "        Transform some hyperopt formats to integer.\n",
    "\n",
    "        Parameters:\n",
    "            params (dict) - model parameters.\n",
    "        \"\"\"\n",
    "        \n",
    "        for par in self.__int_params:\n",
    "            params[par] = int(params[par])\n",
    "\n",
    "        return params\n",
    "    \n",
    "\n",
    "    def __score(self, params):\n",
    "        \"\"\"\n",
    "        Compute score over dictionary of parameters.\n",
    "\n",
    "        Parameters:\n",
    "            params (dict) - model parameters.\n",
    "        \"\"\"\n",
    "\n",
    "        model = self.__model(**self.__common_params, **self.__params2int(params))\\\n",
    "                    .fit(self.__train_pool, \n",
    "                         eval_set=self.__val_pool, \n",
    "                         **self.__fit_params)\n",
    "        \n",
    "        y_pred = model.predict(self.__val_pool)\n",
    "        loss = RMSE(self.__val_pool.get_label(), y_pred)\n",
    "        \n",
    "        return {\"loss\": loss, \"status\": STATUS_OK}\n",
    "    \n",
    "\n",
    "    def make_hyperopt(self, max_evals=50):\n",
    "        \"\"\"\n",
    "        Make searching of hyperparameters.\n",
    "\n",
    "        Parameters:\n",
    "            max_evals (int) - max number of iterations for optimization.\n",
    "        \"\"\"\n",
    "\n",
    "        self.trials = Trials()\n",
    "        best = fmin(self.__score,\n",
    "                    space=self.__space,\n",
    "                    trials=self.trials,\n",
    "                    algo=tpe.suggest,\n",
    "                    max_evals=max_evals)\n",
    "        self.best_parameters = self.__params2int(best)"
   ]
  },
  {
   "cell_type": "code",
   "execution_count": 16,
   "metadata": {},
   "outputs": [],
   "source": [
    "SPACE = {\n",
    "    \"iterations\": hp.quniform(\"iterations\", 100, 1200, 50),\n",
    "    \"learning_rate\": hp.uniform(\"learning_rate\", 1e-2, 5e-1),\n",
    "    \"depth\": hp.quniform(\"depth\", 3, 8, 1),\n",
    "    \n",
    "    \"min_child_samples\": hp.quniform(\"min_child_samples\", 10, 150, 10),\n",
    "\n",
    "    \"reg_lambda\": hp.uniform(\"reg_lambda\", 0, 20),\n",
    "\n",
    "    \n",
    "     \"random_strength\": hp.lognormal(\"random_strength\", 1e-9, 1),\n",
    "     \"bagging_temperature\": hp.quniform(\"bagging_temperature\", 0, 10, 1),\n",
    "\n",
    "#    \"colsample_bylevel\": hp.uniform(\"colsample_bylevel\", 0, 1),\n",
    "#   \"subsample\": hp.uniform(\"subsample\", 0, 1)\n",
    "}\n",
    "\n",
    "COMMON_PARAMS = {\n",
    "    \"random_state\": 42,\n",
    "    \"task_type\": \"GPU\",\n",
    "    \"objective\": \"RMSE\",\n",
    "    \"eval_metric\": \"RMSE\",\n",
    "    \n",
    "    \"od_type\": \"Iter\",\n",
    "    \"od_wait\": 20,\n",
    "    \"use_best_model\": True\n",
    "}\n",
    "\n",
    "FIT_PARAMS = {\n",
    "    \"verbose\": 0\n",
    "}\n",
    "\n",
    "INT_PARAMS = [\n",
    "    \"iterations\", \"depth\", \"min_child_samples\", #\"bagging_temperature\"\n",
    "]\n",
    "\n",
    "\n",
    "MODEL = CatBoostRegressor"
   ]
  },
  {
   "cell_type": "code",
   "execution_count": 17,
   "metadata": {},
   "outputs": [],
   "source": [
    "X_train, X_val = train_test_split(train_n.drop(columns=['id']), train_size=0.7, random_state=42)"
   ]
  },
  {
   "cell_type": "code",
   "execution_count": 18,
   "metadata": {},
   "outputs": [],
   "source": [
    "train_pool = Pool(X_train.drop(columns=['salary']), np.log(X_train['salary']+1), cat_features=CAT_FEATURES)"
   ]
  },
  {
   "cell_type": "code",
   "execution_count": 19,
   "metadata": {},
   "outputs": [],
   "source": [
    "val_pool = Pool(X_val.drop(columns=['salary']), np.log(X_val['salary']+1), cat_features=CAT_FEATURES)"
   ]
  },
  {
   "cell_type": "code",
   "execution_count": 20,
   "metadata": {},
   "outputs": [
    {
     "name": "stdout",
     "output_type": "stream",
     "text": [
      "100%|████████████████████████████████████████████| 200/200 [1:05:15<00:00, 19.58s/trial, best loss: 0.9944795200030278]\n"
     ]
    }
   ],
   "source": [
    "tuner = Tuner(MODEL, train_pool, val_pool, SPACE, COMMON_PARAMS, FIT_PARAMS, INT_PARAMS)\n",
    "tuner.make_hyperopt(max_evals=200)"
   ]
  },
  {
   "cell_type": "code",
   "execution_count": 21,
   "metadata": {},
   "outputs": [
    {
     "data": {
      "text/plain": [
       "{'bagging_temperature': 1.0,\n",
       " 'depth': 6,\n",
       " 'iterations': 150,\n",
       " 'learning_rate': 0.16060632773346958,\n",
       " 'min_child_samples': 70,\n",
       " 'random_strength': 15.832233734896079,\n",
       " 'reg_lambda': 9.247482837796273}"
      ]
     },
     "execution_count": 21,
     "metadata": {},
     "output_type": "execute_result"
    }
   ],
   "source": [
    "tuner.best_parameters"
   ]
  },
  {
   "cell_type": "code",
   "execution_count": 22,
   "metadata": {},
   "outputs": [],
   "source": [
    "est = CatBoostRegressor(**tuner.best_parameters)"
   ]
  },
  {
   "cell_type": "code",
   "execution_count": 23,
   "metadata": {},
   "outputs": [
    {
     "name": "stdout",
     "output_type": "stream",
     "text": [
      "0:\tlearn: 1.0868721\ttest: 1.0788045\tbest: 1.0788045 (0)\ttotal: 110ms\tremaining: 16.4s\n",
      "10:\tlearn: 1.0308479\ttest: 1.0212173\tbest: 1.0212173 (10)\ttotal: 838ms\tremaining: 10.6s\n",
      "20:\tlearn: 1.0232649\ttest: 1.0136236\tbest: 1.0136236 (20)\ttotal: 1.5s\tremaining: 9.21s\n",
      "30:\tlearn: 1.0204169\ttest: 1.0107869\tbest: 1.0107869 (30)\ttotal: 2.03s\tremaining: 7.8s\n",
      "40:\tlearn: 1.0188882\ttest: 1.0094402\tbest: 1.0094402 (40)\ttotal: 2.61s\tremaining: 6.93s\n",
      "50:\tlearn: 1.0178787\ttest: 1.0085762\tbest: 1.0085762 (50)\ttotal: 3.19s\tremaining: 6.2s\n",
      "60:\tlearn: 1.0170625\ttest: 1.0079892\tbest: 1.0079892 (60)\ttotal: 3.76s\tremaining: 5.49s\n",
      "70:\tlearn: 1.0164078\ttest: 1.0075841\tbest: 1.0075841 (70)\ttotal: 4.25s\tremaining: 4.73s\n",
      "80:\tlearn: 1.0154814\ttest: 1.0070255\tbest: 1.0070255 (80)\ttotal: 4.81s\tremaining: 4.09s\n",
      "90:\tlearn: 1.0121530\ttest: 1.0043755\tbest: 1.0043755 (90)\ttotal: 5.41s\tremaining: 3.51s\n",
      "100:\tlearn: 1.0065245\ttest: 1.0005567\tbest: 1.0005567 (100)\ttotal: 6.03s\tremaining: 2.92s\n",
      "110:\tlearn: 1.0045839\ttest: 0.9993956\tbest: 0.9993930 (107)\ttotal: 6.68s\tremaining: 2.35s\n",
      "120:\tlearn: 1.0030513\ttest: 0.9987890\tbest: 0.9987890 (120)\ttotal: 7.3s\tremaining: 1.75s\n",
      "130:\tlearn: 1.0017679\ttest: 0.9985036\tbest: 0.9985033 (128)\ttotal: 7.97s\tremaining: 1.16s\n",
      "140:\tlearn: 1.0005386\ttest: 0.9975617\tbest: 0.9975479 (138)\ttotal: 8.68s\tremaining: 554ms\n",
      "149:\tlearn: 0.9993723\ttest: 0.9972669\tbest: 0.9972564 (146)\ttotal: 9.3s\tremaining: 0us\n",
      "\n",
      "bestTest = 0.9972564471\n",
      "bestIteration = 146\n",
      "\n",
      "Shrink model to first 147 iterations.\n"
     ]
    },
    {
     "data": {
      "text/plain": [
       "<catboost.core.CatBoostRegressor at 0x192a8c310c8>"
      ]
     },
     "execution_count": 23,
     "metadata": {},
     "output_type": "execute_result"
    }
   ],
   "source": [
    "est.fit(train_pool, eval_set=val_pool, verbose_eval=10)"
   ]
  },
  {
   "cell_type": "code",
   "execution_count": 24,
   "metadata": {},
   "outputs": [
    {
     "data": {
      "image/png": "[encoded data removed]",
      "text/plain": [
       "<Figure size 720x720 with 1 Axes>"
      ]
     },
     "metadata": {
      "needs_background": "light"
     },
     "output_type": "display_data"
    }
   ],
   "source": [
    "importance = sorted(zip(X_train.drop(columns=['salary']).columns, est.feature_importances_), key=lambda x: x[1], reverse=True)\n",
    "imp = list(reversed(importance[:40]))\n",
    "plt.figure(figsize=(10,10))\n",
    "plt.title('Feature Importances ABS')\n",
    "plt.barh(range(len(imp)), [x[1] for x in imp], color='b', align='center')\n",
    "plt.yticks(range(len(imp)), [x[0] for x in imp])\n",
    "plt.xlabel('Relative Importance')\n",
    "plt.show()"
   ]
  },
  {
   "cell_type": "code",
   "execution_count": 25,
   "metadata": {},
   "outputs": [
    {
     "data": {
      "text/plain": [
       "0.9972564465076517"
      ]
     },
     "execution_count": 25,
     "metadata": {},
     "output_type": "execute_result"
    }
   ],
   "source": [
    "np.sqrt(mean_squared_log_error(X_val['salary'], np.exp(est.predict(val_pool))-1))"
   ]
  },
  {
   "cell_type": "markdown",
   "metadata": {},
   "source": [
    "* 0.99760837067426\n",
    "* 0.997859426677459"
   ]
  },
  {
   "cell_type": "code",
   "execution_count": 27,
   "metadata": {},
   "outputs": [
    {
     "data": {
      "text/plain": [
       "0.9985669695421593"
      ]
     },
     "execution_count": 27,
     "metadata": {},
     "output_type": "execute_result"
    }
   ],
   "source": [
    "np.sqrt(mean_squared_log_error(X_train['salary'], np.exp(est.predict(train_pool))-1))"
   ]
  },
  {
   "cell_type": "markdown",
   "metadata": {},
   "source": [
    "* 0.966665672020638\n",
    "* 0.9645155233472713"
   ]
  },
  {
   "cell_type": "code",
   "execution_count": 28,
   "metadata": {},
   "outputs": [
    {
     "name": "stdout",
     "output_type": "stream",
     "text": [
      "0:\tlearn: 1.0841188\ttotal: 175ms\tremaining: 26.1s\n",
      "10:\tlearn: 1.0289253\ttotal: 1.15s\tremaining: 14.6s\n",
      "20:\tlearn: 1.0192003\ttotal: 1.96s\tremaining: 12s\n",
      "30:\tlearn: 1.0169462\ttotal: 2.79s\tremaining: 10.7s\n",
      "40:\tlearn: 1.0152212\ttotal: 3.63s\tremaining: 9.66s\n",
      "50:\tlearn: 1.0145463\ttotal: 4.57s\tremaining: 8.87s\n",
      "60:\tlearn: 1.0140621\ttotal: 5.4s\tremaining: 7.88s\n",
      "70:\tlearn: 1.0134492\ttotal: 6.23s\tremaining: 6.93s\n",
      "80:\tlearn: 1.0124463\ttotal: 7.15s\tremaining: 6.09s\n",
      "90:\tlearn: 1.0105855\ttotal: 7.91s\tremaining: 5.13s\n",
      "100:\tlearn: 1.0044887\ttotal: 8.92s\tremaining: 4.33s\n",
      "110:\tlearn: 1.0014680\ttotal: 9.94s\tremaining: 3.49s\n",
      "120:\tlearn: 0.9995236\ttotal: 11s\tremaining: 2.63s\n",
      "130:\tlearn: 0.9987703\ttotal: 11.9s\tremaining: 1.73s\n",
      "140:\tlearn: 0.9977988\ttotal: 12.9s\tremaining: 825ms\n",
      "149:\tlearn: 0.9967812\ttotal: 13.8s\tremaining: 0us\n"
     ]
    },
    {
     "data": {
      "text/plain": [
       "<catboost.core.CatBoostRegressor at 0x192a8c310c8>"
      ]
     },
     "execution_count": 28,
     "metadata": {},
     "output_type": "execute_result"
    }
   ],
   "source": [
    "est.fit(train_n.drop(columns=['id', 'salary']), \n",
    "        np.log(train_n['salary']+1), \n",
    "        verbose_eval=10,\n",
    "       cat_features=CAT_FEATURES)"
   ]
  },
  {
   "cell_type": "code",
   "execution_count": 29,
   "metadata": {},
   "outputs": [
    {
     "data": {
      "text/plain": [
       "0.9950571621055008"
      ]
     },
     "execution_count": 29,
     "metadata": {},
     "output_type": "execute_result"
    }
   ],
   "source": [
    "np.sqrt(mean_squared_log_error(train_n['salary'], \n",
    "                               np.exp(est.predict(train_n.drop(columns=['id', 'salary'])))-1))"
   ]
  },
  {
   "cell_type": "markdown",
   "metadata": {},
   "source": [
    "* 0.9678006684793359\n",
    "* 0.9679435998332367"
   ]
  },
  {
   "cell_type": "code",
   "execution_count": 30,
   "metadata": {},
   "outputs": [],
   "source": [
    "predict=np.exp(est.predict(test_n.drop(columns=['id'])))-1"
   ]
  },
  {
   "cell_type": "code",
   "execution_count": 31,
   "metadata": {},
   "outputs": [],
   "source": [
    "sub = test_n[['id']].copy()"
   ]
  },
  {
   "cell_type": "code",
   "execution_count": 32,
   "metadata": {},
   "outputs": [],
   "source": [
    "sub['salary'] = predict"
   ]
  },
  {
   "cell_type": "code",
   "execution_count": 33,
   "metadata": {},
   "outputs": [],
   "source": [
    "sub.to_csv(Path('../submissions/cb_5_ho_plus_brt_final_sub.csv'), index=False, sep=\",\")"
   ]
  }
 ],
 "metadata": {
  "kernelspec": {
   "display_name": "Python 3",
   "language": "python",
   "name": "python3"
  },
  "language_info": {
   "codemirror_mode": {
    "name": "ipython",
    "version": 3
   },
   "file_extension": ".py",
   "mimetype": "text/x-python",
   "name": "python",
   "nbconvert_exporter": "python",
   "pygments_lexer": "ipython3",
   "version": "3.7.6"
  },
  "toc": {
   "base_numbering": 1,
   "nav_menu": {},
   "number_sections": true,
   "sideBar": true,
   "skip_h1_title": false,
   "title_cell": "Table of Contents",
   "title_sidebar": "Contents",
   "toc_cell": false,
   "toc_position": {},
   "toc_section_display": true,
   "toc_window_display": false
  }
 },
 "nbformat": 4,
 "nbformat_minor": 4
}
